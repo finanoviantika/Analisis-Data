{
  "cells": [
    {
      "cell_type": "markdown",
      "metadata": {
        "id": "H9wADwK78DCz"
      },
      "source": [
        "# Proyek Analisis Data: E-Commerce Public Dataset\n",
        "- **Nama:** Fina Noviantika\n",
        "- **Email:** finanoviantika73@gmail.com\n",
        "- **ID Dicoding:** finanoviantika"
      ]
    },
    {
      "cell_type": "markdown",
      "metadata": {
        "id": "eE0raob58DC0"
      },
      "source": [
        "## Menentukan Pertanyaan Bisnis"
      ]
    },
    {
      "cell_type": "markdown",
      "metadata": {
        "id": "GmQeQ5YF8DC0"
      },
      "source": [
        "- Pertanyaan 1: Bagaimana hubungan antara waktu pengiriman dengan review score yang diberikan pelanggan?\n",
        "- Pertanyaan 2: Berasal dari state manakah pelanggan dan revenue terbanyak?\n",
        "- Pertanyaan 3: Metode pembayaran mana yang paling sering digunakan dan paling banyak menghasilkan revenue?\n",
        "- Pertanyaan 4: Bagaimana segmentasi pelanggan berdasarkan frekuensi dan total nilai pembelian mereka?"
      ]
    },
    {
      "cell_type": "markdown",
      "metadata": {
        "id": "H-z4QGlO8DC1"
      },
      "source": [
        "## Import Semua Packages/Library yang Digunakan"
      ]
    },
    {
      "cell_type": "code",
      "execution_count": 1,
      "metadata": {
        "id": "FVYwaObI8DC1"
      },
      "outputs": [],
      "source": [
        "import pandas as pd\n",
        "import matplotlib.pyplot as plt\n",
        "import seaborn as sns"
      ]
    },
    {
      "cell_type": "markdown",
      "metadata": {
        "id": "h_Sh51Xy8DC1"
      },
      "source": [
        "## Data Wrangling"
      ]
    },
    {
      "cell_type": "markdown",
      "metadata": {
        "id": "sXU2GBYu8DC1"
      },
      "source": [
        "### Gathering Data"
      ]
    },
    {
      "cell_type": "markdown",
      "metadata": {
        "id": "TEV58y0_rL2l"
      },
      "source": [
        "### Tabel Orders"
      ]
    },
    {
      "cell_type": "code",
      "execution_count": 2,
      "metadata": {
        "colab": {
          "base_uri": "https://localhost:8080/",
          "height": 226
        },
        "id": "zjCBk1BI8DC1",
        "outputId": "0c2deec4-e5b0-40ae-bbb3-d30f73972f02"
      },
      "outputs": [
        {
          "data": {
            "text/html": [
              "<div>\n",
              "<style scoped>\n",
              "    .dataframe tbody tr th:only-of-type {\n",
              "        vertical-align: middle;\n",
              "    }\n",
              "\n",
              "    .dataframe tbody tr th {\n",
              "        vertical-align: top;\n",
              "    }\n",
              "\n",
              "    .dataframe thead th {\n",
              "        text-align: right;\n",
              "    }\n",
              "</style>\n",
              "<table border=\"1\" class=\"dataframe\">\n",
              "  <thead>\n",
              "    <tr style=\"text-align: right;\">\n",
              "      <th></th>\n",
              "      <th>order_id</th>\n",
              "      <th>customer_id</th>\n",
              "      <th>order_status</th>\n",
              "      <th>order_purchase_timestamp</th>\n",
              "      <th>order_approved_at</th>\n",
              "      <th>order_delivered_carrier_date</th>\n",
              "      <th>order_delivered_customer_date</th>\n",
              "      <th>order_estimated_delivery_date</th>\n",
              "    </tr>\n",
              "  </thead>\n",
              "  <tbody>\n",
              "    <tr>\n",
              "      <th>0</th>\n",
              "      <td>e481f51cbdc54678b7cc49136f2d6af7</td>\n",
              "      <td>9ef432eb6251297304e76186b10a928d</td>\n",
              "      <td>delivered</td>\n",
              "      <td>2017-10-02 10:56:33</td>\n",
              "      <td>2017-10-02 11:07:15</td>\n",
              "      <td>2017-10-04 19:55:00</td>\n",
              "      <td>2017-10-10 21:25:13</td>\n",
              "      <td>2017-10-18 00:00:00</td>\n",
              "    </tr>\n",
              "    <tr>\n",
              "      <th>1</th>\n",
              "      <td>53cdb2fc8bc7dce0b6741e2150273451</td>\n",
              "      <td>b0830fb4747a6c6d20dea0b8c802d7ef</td>\n",
              "      <td>delivered</td>\n",
              "      <td>2018-07-24 20:41:37</td>\n",
              "      <td>2018-07-26 03:24:27</td>\n",
              "      <td>2018-07-26 14:31:00</td>\n",
              "      <td>2018-08-07 15:27:45</td>\n",
              "      <td>2018-08-13 00:00:00</td>\n",
              "    </tr>\n",
              "    <tr>\n",
              "      <th>2</th>\n",
              "      <td>47770eb9100c2d0c44946d9cf07ec65d</td>\n",
              "      <td>41ce2a54c0b03bf3443c3d931a367089</td>\n",
              "      <td>delivered</td>\n",
              "      <td>2018-08-08 08:38:49</td>\n",
              "      <td>2018-08-08 08:55:23</td>\n",
              "      <td>2018-08-08 13:50:00</td>\n",
              "      <td>2018-08-17 18:06:29</td>\n",
              "      <td>2018-09-04 00:00:00</td>\n",
              "    </tr>\n",
              "    <tr>\n",
              "      <th>3</th>\n",
              "      <td>949d5b44dbf5de918fe9c16f97b45f8a</td>\n",
              "      <td>f88197465ea7920adcdbec7375364d82</td>\n",
              "      <td>delivered</td>\n",
              "      <td>2017-11-18 19:28:06</td>\n",
              "      <td>2017-11-18 19:45:59</td>\n",
              "      <td>2017-11-22 13:39:59</td>\n",
              "      <td>2017-12-02 00:28:42</td>\n",
              "      <td>2017-12-15 00:00:00</td>\n",
              "    </tr>\n",
              "    <tr>\n",
              "      <th>4</th>\n",
              "      <td>ad21c59c0840e6cb83a9ceb5573f8159</td>\n",
              "      <td>8ab97904e6daea8866dbdbc4fb7aad2c</td>\n",
              "      <td>delivered</td>\n",
              "      <td>2018-02-13 21:18:39</td>\n",
              "      <td>2018-02-13 22:20:29</td>\n",
              "      <td>2018-02-14 19:46:34</td>\n",
              "      <td>2018-02-16 18:17:02</td>\n",
              "      <td>2018-02-26 00:00:00</td>\n",
              "    </tr>\n",
              "  </tbody>\n",
              "</table>\n",
              "</div>"
            ],
            "text/plain": [
              "                           order_id                       customer_id  \\\n",
              "0  e481f51cbdc54678b7cc49136f2d6af7  9ef432eb6251297304e76186b10a928d   \n",
              "1  53cdb2fc8bc7dce0b6741e2150273451  b0830fb4747a6c6d20dea0b8c802d7ef   \n",
              "2  47770eb9100c2d0c44946d9cf07ec65d  41ce2a54c0b03bf3443c3d931a367089   \n",
              "3  949d5b44dbf5de918fe9c16f97b45f8a  f88197465ea7920adcdbec7375364d82   \n",
              "4  ad21c59c0840e6cb83a9ceb5573f8159  8ab97904e6daea8866dbdbc4fb7aad2c   \n",
              "\n",
              "  order_status order_purchase_timestamp    order_approved_at  \\\n",
              "0    delivered      2017-10-02 10:56:33  2017-10-02 11:07:15   \n",
              "1    delivered      2018-07-24 20:41:37  2018-07-26 03:24:27   \n",
              "2    delivered      2018-08-08 08:38:49  2018-08-08 08:55:23   \n",
              "3    delivered      2017-11-18 19:28:06  2017-11-18 19:45:59   \n",
              "4    delivered      2018-02-13 21:18:39  2018-02-13 22:20:29   \n",
              "\n",
              "  order_delivered_carrier_date order_delivered_customer_date  \\\n",
              "0          2017-10-04 19:55:00           2017-10-10 21:25:13   \n",
              "1          2018-07-26 14:31:00           2018-08-07 15:27:45   \n",
              "2          2018-08-08 13:50:00           2018-08-17 18:06:29   \n",
              "3          2017-11-22 13:39:59           2017-12-02 00:28:42   \n",
              "4          2018-02-14 19:46:34           2018-02-16 18:17:02   \n",
              "\n",
              "  order_estimated_delivery_date  \n",
              "0           2017-10-18 00:00:00  \n",
              "1           2018-08-13 00:00:00  \n",
              "2           2018-09-04 00:00:00  \n",
              "3           2017-12-15 00:00:00  \n",
              "4           2018-02-26 00:00:00  "
            ]
          },
          "execution_count": 2,
          "metadata": {},
          "output_type": "execute_result"
        }
      ],
      "source": [
        "orders_df = pd.read_csv('data/orders_dataset.csv')\n",
        "orders_df.head()"
      ]
    },
    {
      "cell_type": "markdown",
      "metadata": {
        "id": "pyHrZYoeu6Wc"
      },
      "source": [
        "**Insight:**\n",
        "- Tabel file orders memiliki 8 kolom yaitu order_id, customer_id, order_status, order_purchase_timestamp, order_approved_at, order_delivered_carrier_date, order_delivered_customer_date, dan order_estimated_delivery_date."
      ]
    },
    {
      "cell_type": "markdown",
      "metadata": {
        "id": "ghyYtnabrjdu"
      },
      "source": [
        "### Tabel Reviews"
      ]
    },
    {
      "cell_type": "code",
      "execution_count": 3,
      "metadata": {
        "colab": {
          "base_uri": "https://localhost:8080/",
          "height": 224
        },
        "id": "ULSQKLfPrmYJ",
        "outputId": "2a66783a-12a7-4b1f-de53-c3b514c691e8"
      },
      "outputs": [
        {
          "data": {
            "text/html": [
              "<div>\n",
              "<style scoped>\n",
              "    .dataframe tbody tr th:only-of-type {\n",
              "        vertical-align: middle;\n",
              "    }\n",
              "\n",
              "    .dataframe tbody tr th {\n",
              "        vertical-align: top;\n",
              "    }\n",
              "\n",
              "    .dataframe thead th {\n",
              "        text-align: right;\n",
              "    }\n",
              "</style>\n",
              "<table border=\"1\" class=\"dataframe\">\n",
              "  <thead>\n",
              "    <tr style=\"text-align: right;\">\n",
              "      <th></th>\n",
              "      <th>review_id</th>\n",
              "      <th>order_id</th>\n",
              "      <th>review_score</th>\n",
              "      <th>review_comment_title</th>\n",
              "      <th>review_comment_message</th>\n",
              "      <th>review_creation_date</th>\n",
              "      <th>review_answer_timestamp</th>\n",
              "    </tr>\n",
              "  </thead>\n",
              "  <tbody>\n",
              "    <tr>\n",
              "      <th>0</th>\n",
              "      <td>7bc2406110b926393aa56f80a40eba40</td>\n",
              "      <td>73fc7af87114b39712e6da79b0a377eb</td>\n",
              "      <td>4</td>\n",
              "      <td>NaN</td>\n",
              "      <td>NaN</td>\n",
              "      <td>2018-01-18 00:00:00</td>\n",
              "      <td>2018-01-18 21:46:59</td>\n",
              "    </tr>\n",
              "    <tr>\n",
              "      <th>1</th>\n",
              "      <td>80e641a11e56f04c1ad469d5645fdfde</td>\n",
              "      <td>a548910a1c6147796b98fdf73dbeba33</td>\n",
              "      <td>5</td>\n",
              "      <td>NaN</td>\n",
              "      <td>NaN</td>\n",
              "      <td>2018-03-10 00:00:00</td>\n",
              "      <td>2018-03-11 03:05:13</td>\n",
              "    </tr>\n",
              "    <tr>\n",
              "      <th>2</th>\n",
              "      <td>228ce5500dc1d8e020d8d1322874b6f0</td>\n",
              "      <td>f9e4b658b201a9f2ecdecbb34bed034b</td>\n",
              "      <td>5</td>\n",
              "      <td>NaN</td>\n",
              "      <td>NaN</td>\n",
              "      <td>2018-02-17 00:00:00</td>\n",
              "      <td>2018-02-18 14:36:24</td>\n",
              "    </tr>\n",
              "    <tr>\n",
              "      <th>3</th>\n",
              "      <td>e64fb393e7b32834bb789ff8bb30750e</td>\n",
              "      <td>658677c97b385a9be170737859d3511b</td>\n",
              "      <td>5</td>\n",
              "      <td>NaN</td>\n",
              "      <td>Recebi bem antes do prazo estipulado.</td>\n",
              "      <td>2017-04-21 00:00:00</td>\n",
              "      <td>2017-04-21 22:02:06</td>\n",
              "    </tr>\n",
              "    <tr>\n",
              "      <th>4</th>\n",
              "      <td>f7c4243c7fe1938f181bec41a392bdeb</td>\n",
              "      <td>8e6bfb81e283fa7e4f11123a3fb894f1</td>\n",
              "      <td>5</td>\n",
              "      <td>NaN</td>\n",
              "      <td>Parabéns lojas lannister adorei comprar pela I...</td>\n",
              "      <td>2018-03-01 00:00:00</td>\n",
              "      <td>2018-03-02 10:26:53</td>\n",
              "    </tr>\n",
              "  </tbody>\n",
              "</table>\n",
              "</div>"
            ],
            "text/plain": [
              "                          review_id                          order_id  \\\n",
              "0  7bc2406110b926393aa56f80a40eba40  73fc7af87114b39712e6da79b0a377eb   \n",
              "1  80e641a11e56f04c1ad469d5645fdfde  a548910a1c6147796b98fdf73dbeba33   \n",
              "2  228ce5500dc1d8e020d8d1322874b6f0  f9e4b658b201a9f2ecdecbb34bed034b   \n",
              "3  e64fb393e7b32834bb789ff8bb30750e  658677c97b385a9be170737859d3511b   \n",
              "4  f7c4243c7fe1938f181bec41a392bdeb  8e6bfb81e283fa7e4f11123a3fb894f1   \n",
              "\n",
              "   review_score review_comment_title  \\\n",
              "0             4                  NaN   \n",
              "1             5                  NaN   \n",
              "2             5                  NaN   \n",
              "3             5                  NaN   \n",
              "4             5                  NaN   \n",
              "\n",
              "                              review_comment_message review_creation_date  \\\n",
              "0                                                NaN  2018-01-18 00:00:00   \n",
              "1                                                NaN  2018-03-10 00:00:00   \n",
              "2                                                NaN  2018-02-17 00:00:00   \n",
              "3              Recebi bem antes do prazo estipulado.  2017-04-21 00:00:00   \n",
              "4  Parabéns lojas lannister adorei comprar pela I...  2018-03-01 00:00:00   \n",
              "\n",
              "  review_answer_timestamp  \n",
              "0     2018-01-18 21:46:59  \n",
              "1     2018-03-11 03:05:13  \n",
              "2     2018-02-18 14:36:24  \n",
              "3     2017-04-21 22:02:06  \n",
              "4     2018-03-02 10:26:53  "
            ]
          },
          "execution_count": 3,
          "metadata": {},
          "output_type": "execute_result"
        }
      ],
      "source": [
        "reviews_df = pd.read_csv('data/order_reviews_dataset.csv')\n",
        "reviews_df.head()"
      ]
    },
    {
      "cell_type": "markdown",
      "metadata": {
        "id": "rbIwx06-v1bH"
      },
      "source": [
        "**Insight:**\n",
        "- Tabel file reviews memiliki 7 kolom yaitu review_id, order_id, review_score, review_comment_title, review_comment_message, review_creation_date, dan review_answer_timestamp."
      ]
    },
    {
      "cell_type": "markdown",
      "metadata": {
        "id": "1gZUzmAwrq3G"
      },
      "source": [
        "### Tabel Customers"
      ]
    },
    {
      "cell_type": "code",
      "execution_count": 4,
      "metadata": {
        "colab": {
          "base_uri": "https://localhost:8080/",
          "height": 206
        },
        "id": "JOXQSYM-ruoF",
        "outputId": "abee13fa-96a6-41af-c107-40b50e7f7906"
      },
      "outputs": [
        {
          "data": {
            "text/html": [
              "<div>\n",
              "<style scoped>\n",
              "    .dataframe tbody tr th:only-of-type {\n",
              "        vertical-align: middle;\n",
              "    }\n",
              "\n",
              "    .dataframe tbody tr th {\n",
              "        vertical-align: top;\n",
              "    }\n",
              "\n",
              "    .dataframe thead th {\n",
              "        text-align: right;\n",
              "    }\n",
              "</style>\n",
              "<table border=\"1\" class=\"dataframe\">\n",
              "  <thead>\n",
              "    <tr style=\"text-align: right;\">\n",
              "      <th></th>\n",
              "      <th>customer_id</th>\n",
              "      <th>customer_unique_id</th>\n",
              "      <th>customer_zip_code_prefix</th>\n",
              "      <th>customer_city</th>\n",
              "      <th>customer_state</th>\n",
              "    </tr>\n",
              "  </thead>\n",
              "  <tbody>\n",
              "    <tr>\n",
              "      <th>0</th>\n",
              "      <td>06b8999e2fba1a1fbc88172c00ba8bc7</td>\n",
              "      <td>861eff4711a542e4b93843c6dd7febb0</td>\n",
              "      <td>14409</td>\n",
              "      <td>franca</td>\n",
              "      <td>SP</td>\n",
              "    </tr>\n",
              "    <tr>\n",
              "      <th>1</th>\n",
              "      <td>18955e83d337fd6b2def6b18a428ac77</td>\n",
              "      <td>290c77bc529b7ac935b93aa66c333dc3</td>\n",
              "      <td>9790</td>\n",
              "      <td>sao bernardo do campo</td>\n",
              "      <td>SP</td>\n",
              "    </tr>\n",
              "    <tr>\n",
              "      <th>2</th>\n",
              "      <td>4e7b3e00288586ebd08712fdd0374a03</td>\n",
              "      <td>060e732b5b29e8181a18229c7b0b2b5e</td>\n",
              "      <td>1151</td>\n",
              "      <td>sao paulo</td>\n",
              "      <td>SP</td>\n",
              "    </tr>\n",
              "    <tr>\n",
              "      <th>3</th>\n",
              "      <td>b2b6027bc5c5109e529d4dc6358b12c3</td>\n",
              "      <td>259dac757896d24d7702b9acbbff3f3c</td>\n",
              "      <td>8775</td>\n",
              "      <td>mogi das cruzes</td>\n",
              "      <td>SP</td>\n",
              "    </tr>\n",
              "    <tr>\n",
              "      <th>4</th>\n",
              "      <td>4f2d8ab171c80ec8364f7c12e35b23ad</td>\n",
              "      <td>345ecd01c38d18a9036ed96c73b8d066</td>\n",
              "      <td>13056</td>\n",
              "      <td>campinas</td>\n",
              "      <td>SP</td>\n",
              "    </tr>\n",
              "  </tbody>\n",
              "</table>\n",
              "</div>"
            ],
            "text/plain": [
              "                        customer_id                customer_unique_id  \\\n",
              "0  06b8999e2fba1a1fbc88172c00ba8bc7  861eff4711a542e4b93843c6dd7febb0   \n",
              "1  18955e83d337fd6b2def6b18a428ac77  290c77bc529b7ac935b93aa66c333dc3   \n",
              "2  4e7b3e00288586ebd08712fdd0374a03  060e732b5b29e8181a18229c7b0b2b5e   \n",
              "3  b2b6027bc5c5109e529d4dc6358b12c3  259dac757896d24d7702b9acbbff3f3c   \n",
              "4  4f2d8ab171c80ec8364f7c12e35b23ad  345ecd01c38d18a9036ed96c73b8d066   \n",
              "\n",
              "   customer_zip_code_prefix          customer_city customer_state  \n",
              "0                     14409                 franca             SP  \n",
              "1                      9790  sao bernardo do campo             SP  \n",
              "2                      1151              sao paulo             SP  \n",
              "3                      8775        mogi das cruzes             SP  \n",
              "4                     13056               campinas             SP  "
            ]
          },
          "execution_count": 4,
          "metadata": {},
          "output_type": "execute_result"
        }
      ],
      "source": [
        "customers_df = pd.read_csv('data/customers_dataset.csv')\n",
        "customers_df.head()"
      ]
    },
    {
      "cell_type": "markdown",
      "metadata": {
        "id": "YPapYMkJwOY_"
      },
      "source": [
        "**Insight:**\n",
        "- Tabel file customers memiliki 5 kolom yaitu customer_id, customer_unique_id, customer_zip_code_prefix, customer_city, dan customer_state."
      ]
    },
    {
      "cell_type": "markdown",
      "metadata": {
        "id": "vAEB_COIryHP"
      },
      "source": [
        "### Tabel Payments"
      ]
    },
    {
      "cell_type": "code",
      "execution_count": 5,
      "metadata": {
        "colab": {
          "base_uri": "https://localhost:8080/",
          "height": 206
        },
        "id": "wzP25oDSr031",
        "outputId": "732d0ad9-9bb3-4393-ec06-6c15de9911ae"
      },
      "outputs": [
        {
          "data": {
            "text/html": [
              "<div>\n",
              "<style scoped>\n",
              "    .dataframe tbody tr th:only-of-type {\n",
              "        vertical-align: middle;\n",
              "    }\n",
              "\n",
              "    .dataframe tbody tr th {\n",
              "        vertical-align: top;\n",
              "    }\n",
              "\n",
              "    .dataframe thead th {\n",
              "        text-align: right;\n",
              "    }\n",
              "</style>\n",
              "<table border=\"1\" class=\"dataframe\">\n",
              "  <thead>\n",
              "    <tr style=\"text-align: right;\">\n",
              "      <th></th>\n",
              "      <th>order_id</th>\n",
              "      <th>payment_sequential</th>\n",
              "      <th>payment_type</th>\n",
              "      <th>payment_installments</th>\n",
              "      <th>payment_value</th>\n",
              "    </tr>\n",
              "  </thead>\n",
              "  <tbody>\n",
              "    <tr>\n",
              "      <th>0</th>\n",
              "      <td>b81ef226f3fe1789b1e8b2acac839d17</td>\n",
              "      <td>1</td>\n",
              "      <td>credit_card</td>\n",
              "      <td>8</td>\n",
              "      <td>99.33</td>\n",
              "    </tr>\n",
              "    <tr>\n",
              "      <th>1</th>\n",
              "      <td>a9810da82917af2d9aefd1278f1dcfa0</td>\n",
              "      <td>1</td>\n",
              "      <td>credit_card</td>\n",
              "      <td>1</td>\n",
              "      <td>24.39</td>\n",
              "    </tr>\n",
              "    <tr>\n",
              "      <th>2</th>\n",
              "      <td>25e8ea4e93396b6fa0d3dd708e76c1bd</td>\n",
              "      <td>1</td>\n",
              "      <td>credit_card</td>\n",
              "      <td>1</td>\n",
              "      <td>65.71</td>\n",
              "    </tr>\n",
              "    <tr>\n",
              "      <th>3</th>\n",
              "      <td>ba78997921bbcdc1373bb41e913ab953</td>\n",
              "      <td>1</td>\n",
              "      <td>credit_card</td>\n",
              "      <td>8</td>\n",
              "      <td>107.78</td>\n",
              "    </tr>\n",
              "    <tr>\n",
              "      <th>4</th>\n",
              "      <td>42fdf880ba16b47b59251dd489d4441a</td>\n",
              "      <td>1</td>\n",
              "      <td>credit_card</td>\n",
              "      <td>2</td>\n",
              "      <td>128.45</td>\n",
              "    </tr>\n",
              "  </tbody>\n",
              "</table>\n",
              "</div>"
            ],
            "text/plain": [
              "                           order_id  payment_sequential payment_type  \\\n",
              "0  b81ef226f3fe1789b1e8b2acac839d17                   1  credit_card   \n",
              "1  a9810da82917af2d9aefd1278f1dcfa0                   1  credit_card   \n",
              "2  25e8ea4e93396b6fa0d3dd708e76c1bd                   1  credit_card   \n",
              "3  ba78997921bbcdc1373bb41e913ab953                   1  credit_card   \n",
              "4  42fdf880ba16b47b59251dd489d4441a                   1  credit_card   \n",
              "\n",
              "   payment_installments  payment_value  \n",
              "0                     8          99.33  \n",
              "1                     1          24.39  \n",
              "2                     1          65.71  \n",
              "3                     8         107.78  \n",
              "4                     2         128.45  "
            ]
          },
          "execution_count": 5,
          "metadata": {},
          "output_type": "execute_result"
        }
      ],
      "source": [
        "payments_df = pd.read_csv('data/order_payments_dataset.csv')\n",
        "payments_df.head()"
      ]
    },
    {
      "cell_type": "markdown",
      "metadata": {
        "id": "wMl6O2itw1nH"
      },
      "source": [
        "**Insight:**\n",
        "- Tabel file payments memiliki 5 kolom yaitu order_id, payment_sequential, payment_type, payment_installments, dan payment_value."
      ]
    },
    {
      "cell_type": "markdown",
      "metadata": {
        "id": "FHSiqaZp8DC1"
      },
      "source": [
        "### Assessing Data"
      ]
    },
    {
      "cell_type": "markdown",
      "metadata": {
        "id": "8uAYf72Ey9qm"
      },
      "source": [
        "### Menilai data orders_df"
      ]
    },
    {
      "cell_type": "code",
      "execution_count": 6,
      "metadata": {
        "colab": {
          "base_uri": "https://localhost:8080/"
        },
        "id": "ax-3tEjc9Cj1",
        "outputId": "4fb48796-98ff-4a37-ad21-9341a0411064"
      },
      "outputs": [
        {
          "name": "stdout",
          "output_type": "stream",
          "text": [
            "<class 'pandas.core.frame.DataFrame'>\n",
            "RangeIndex: 99441 entries, 0 to 99440\n",
            "Data columns (total 8 columns):\n",
            " #   Column                         Non-Null Count  Dtype \n",
            "---  ------                         --------------  ----- \n",
            " 0   order_id                       99441 non-null  object\n",
            " 1   customer_id                    99441 non-null  object\n",
            " 2   order_status                   99441 non-null  object\n",
            " 3   order_purchase_timestamp       99441 non-null  object\n",
            " 4   order_approved_at              99281 non-null  object\n",
            " 5   order_delivered_carrier_date   97658 non-null  object\n",
            " 6   order_delivered_customer_date  96476 non-null  object\n",
            " 7   order_estimated_delivery_date  99441 non-null  object\n",
            "dtypes: object(8)\n",
            "memory usage: 6.1+ MB\n"
          ]
        }
      ],
      "source": [
        "orders_df.info()"
      ]
    },
    {
      "cell_type": "markdown",
      "metadata": {
        "id": "7dtxhAPrkhPL"
      },
      "source": [
        "**Insight:**\n",
        "- Total data yaitu 99441 data.\n",
        "- Semua kolom waktu masih bertipe object yaitu order_purchase_timestamp, order_approved_at, order_delivered_carrier_date, order_delivered_customer_date, dan order_estimated_delivery_date.\n",
        "- Terdapat kolom yang memiliki nilai NaN yaitu order_approved_at, order_delivered_carrier_date, dan order_delivered_customer_date."
      ]
    },
    {
      "cell_type": "code",
      "execution_count": 7,
      "metadata": {
        "colab": {
          "base_uri": "https://localhost:8080/",
          "height": 335
        },
        "id": "QZZTw_VLzoGG",
        "outputId": "c4d39dcd-cc38-4a75-a81a-2ac0f801c66c"
      },
      "outputs": [
        {
          "data": {
            "text/plain": [
              "order_id                            0\n",
              "customer_id                         0\n",
              "order_status                        0\n",
              "order_purchase_timestamp            0\n",
              "order_approved_at                 160\n",
              "order_delivered_carrier_date     1783\n",
              "order_delivered_customer_date    2965\n",
              "order_estimated_delivery_date       0\n",
              "dtype: int64"
            ]
          },
          "execution_count": 7,
          "metadata": {},
          "output_type": "execute_result"
        }
      ],
      "source": [
        "orders_df.isna().sum()"
      ]
    },
    {
      "cell_type": "markdown",
      "metadata": {
        "id": "vr3cKh303Z1C"
      },
      "source": [
        "**Insight:**\n",
        "- Kolom order_approved_at\tmemiliki 160 nilai NaN.\n",
        "- Kolom order_delivered_carrier_date memiliki 1783 nilai NaN.\n",
        "- Kolom order_delivered_customer_date\tmemiliki 2965 nilai NaN."
      ]
    },
    {
      "cell_type": "code",
      "execution_count": 8,
      "metadata": {
        "colab": {
          "base_uri": "https://localhost:8080/"
        },
        "id": "vekxjSEqzu2o",
        "outputId": "8e4943b6-f0ed-4953-b2e1-171b26f36eb5"
      },
      "outputs": [
        {
          "name": "stdout",
          "output_type": "stream",
          "text": [
            "Jumlah duplikasi:  0\n"
          ]
        }
      ],
      "source": [
        "print(\"Jumlah duplikasi: \", orders_df.duplicated().sum())"
      ]
    },
    {
      "cell_type": "markdown",
      "metadata": {
        "id": "Bbk_qNIN34af"
      },
      "source": [
        "**Insight:**\n",
        "- Tidak ada duplikasi"
      ]
    },
    {
      "cell_type": "code",
      "execution_count": 9,
      "metadata": {
        "colab": {
          "base_uri": "https://localhost:8080/",
          "height": 195
        },
        "id": "8ab4GqnTzz1v",
        "outputId": "b09be17f-89f7-4465-a9b1-94e3eac7729c"
      },
      "outputs": [
        {
          "data": {
            "text/html": [
              "<div>\n",
              "<style scoped>\n",
              "    .dataframe tbody tr th:only-of-type {\n",
              "        vertical-align: middle;\n",
              "    }\n",
              "\n",
              "    .dataframe tbody tr th {\n",
              "        vertical-align: top;\n",
              "    }\n",
              "\n",
              "    .dataframe thead th {\n",
              "        text-align: right;\n",
              "    }\n",
              "</style>\n",
              "<table border=\"1\" class=\"dataframe\">\n",
              "  <thead>\n",
              "    <tr style=\"text-align: right;\">\n",
              "      <th></th>\n",
              "      <th>order_id</th>\n",
              "      <th>customer_id</th>\n",
              "      <th>order_status</th>\n",
              "      <th>order_purchase_timestamp</th>\n",
              "      <th>order_approved_at</th>\n",
              "      <th>order_delivered_carrier_date</th>\n",
              "      <th>order_delivered_customer_date</th>\n",
              "      <th>order_estimated_delivery_date</th>\n",
              "    </tr>\n",
              "  </thead>\n",
              "  <tbody>\n",
              "    <tr>\n",
              "      <th>count</th>\n",
              "      <td>99441</td>\n",
              "      <td>99441</td>\n",
              "      <td>99441</td>\n",
              "      <td>99441</td>\n",
              "      <td>99281</td>\n",
              "      <td>97658</td>\n",
              "      <td>96476</td>\n",
              "      <td>99441</td>\n",
              "    </tr>\n",
              "    <tr>\n",
              "      <th>unique</th>\n",
              "      <td>99441</td>\n",
              "      <td>99441</td>\n",
              "      <td>8</td>\n",
              "      <td>98875</td>\n",
              "      <td>90733</td>\n",
              "      <td>81018</td>\n",
              "      <td>95664</td>\n",
              "      <td>459</td>\n",
              "    </tr>\n",
              "    <tr>\n",
              "      <th>top</th>\n",
              "      <td>e481f51cbdc54678b7cc49136f2d6af7</td>\n",
              "      <td>9ef432eb6251297304e76186b10a928d</td>\n",
              "      <td>delivered</td>\n",
              "      <td>2018-04-11 10:48:14</td>\n",
              "      <td>2018-02-27 04:31:10</td>\n",
              "      <td>2018-05-09 15:48:00</td>\n",
              "      <td>2018-05-08 23:38:46</td>\n",
              "      <td>2017-12-20 00:00:00</td>\n",
              "    </tr>\n",
              "    <tr>\n",
              "      <th>freq</th>\n",
              "      <td>1</td>\n",
              "      <td>1</td>\n",
              "      <td>96478</td>\n",
              "      <td>3</td>\n",
              "      <td>9</td>\n",
              "      <td>47</td>\n",
              "      <td>3</td>\n",
              "      <td>522</td>\n",
              "    </tr>\n",
              "  </tbody>\n",
              "</table>\n",
              "</div>"
            ],
            "text/plain": [
              "                                order_id                       customer_id  \\\n",
              "count                              99441                             99441   \n",
              "unique                             99441                             99441   \n",
              "top     e481f51cbdc54678b7cc49136f2d6af7  9ef432eb6251297304e76186b10a928d   \n",
              "freq                                   1                                 1   \n",
              "\n",
              "       order_status order_purchase_timestamp    order_approved_at  \\\n",
              "count         99441                    99441                99281   \n",
              "unique            8                    98875                90733   \n",
              "top       delivered      2018-04-11 10:48:14  2018-02-27 04:31:10   \n",
              "freq          96478                        3                    9   \n",
              "\n",
              "       order_delivered_carrier_date order_delivered_customer_date  \\\n",
              "count                         97658                         96476   \n",
              "unique                        81018                         95664   \n",
              "top             2018-05-09 15:48:00           2018-05-08 23:38:46   \n",
              "freq                             47                             3   \n",
              "\n",
              "       order_estimated_delivery_date  \n",
              "count                          99441  \n",
              "unique                           459  \n",
              "top              2017-12-20 00:00:00  \n",
              "freq                             522  "
            ]
          },
          "execution_count": 9,
          "metadata": {},
          "output_type": "execute_result"
        }
      ],
      "source": [
        "orders_df.describe()"
      ]
    },
    {
      "cell_type": "markdown",
      "metadata": {
        "id": "MNXIU-fn38Im"
      },
      "source": [
        "**Insight:**\n",
        "- Terdapat 8 jenis order_status dan yang paling sering muncul ialah \"delivered\" sebanyak 96.478 order.\n",
        "- Terdapat 98.875 nilai unik dari 99.441 order_purchase_timestamp, artinya ada sebanyak 566 waktu pembelian yang terjadi secara bersamaan.\n",
        "- Terdapat 90.733 waktu persetujuan unik dari 99.281 data, kemungkinan approval dilakukan secara batch sehingga ada persetujuan yang sama.\n",
        "- Terdapat 81.018 nilai unik dari 97.658 data, menunjukkan banyak seller mengirim ke kurir diwaktu yang sama atau sangat berdekatan (bisa jadi pengiriman per batch).\n",
        "- Terdapat 95.664 nilai unik dari 96.476 data, menunjukkan sebagian kecil pelanggan menerima barang diwaktu yang sama (bisa jadi karena lokasi yang sama dan diantar kurir yang sama).\n",
        "- Terdapat 459 nilai unik dari 99.441 data, menunjukkan estimasi pengiriman memiliki variasi yang sangat terbatas (bisa jadi hanya tergantung pada lokasi dan jenis pengiriman)."
      ]
    },
    {
      "cell_type": "markdown",
      "metadata": {
        "id": "Tba6Jv8e99or"
      },
      "source": [
        "### Menilai data reviews_df"
      ]
    },
    {
      "cell_type": "code",
      "execution_count": 10,
      "metadata": {
        "colab": {
          "base_uri": "https://localhost:8080/"
        },
        "id": "gtgCX8CD-CGl",
        "outputId": "65841e41-08ff-4d71-e97f-920783486e31"
      },
      "outputs": [
        {
          "name": "stdout",
          "output_type": "stream",
          "text": [
            "<class 'pandas.core.frame.DataFrame'>\n",
            "RangeIndex: 99224 entries, 0 to 99223\n",
            "Data columns (total 7 columns):\n",
            " #   Column                   Non-Null Count  Dtype \n",
            "---  ------                   --------------  ----- \n",
            " 0   review_id                99224 non-null  object\n",
            " 1   order_id                 99224 non-null  object\n",
            " 2   review_score             99224 non-null  int64 \n",
            " 3   review_comment_title     11568 non-null  object\n",
            " 4   review_comment_message   40977 non-null  object\n",
            " 5   review_creation_date     99224 non-null  object\n",
            " 6   review_answer_timestamp  99224 non-null  object\n",
            "dtypes: int64(1), object(6)\n",
            "memory usage: 5.3+ MB\n"
          ]
        }
      ],
      "source": [
        "reviews_df.info()"
      ]
    },
    {
      "cell_type": "markdown",
      "metadata": {
        "id": "3XQN8WFHDcoH"
      },
      "source": [
        "**Insight:**\n",
        "- Total data yaitu 99.224 data.\n",
        "- Kolom review_score tidak memiliki nilai NaN, artinya semua review memiliki skor.\n",
        "- Terdapat kolom yang memiliki nilai NaN yaitu review_comment_title dan review_comment_message. Kedua kolom ini tidak digunakan jadi nanti akan dihapus."
      ]
    },
    {
      "cell_type": "code",
      "execution_count": 11,
      "metadata": {
        "colab": {
          "base_uri": "https://localhost:8080/",
          "height": 304
        },
        "id": "2ViUUOUKFgl0",
        "outputId": "c21b478a-da21-4505-cae0-e136e477606a"
      },
      "outputs": [
        {
          "data": {
            "text/plain": [
              "review_id                      0\n",
              "order_id                       0\n",
              "review_score                   0\n",
              "review_comment_title       87656\n",
              "review_comment_message     58247\n",
              "review_creation_date           0\n",
              "review_answer_timestamp        0\n",
              "dtype: int64"
            ]
          },
          "execution_count": 11,
          "metadata": {},
          "output_type": "execute_result"
        }
      ],
      "source": [
        "reviews_df.isna().sum()"
      ]
    },
    {
      "cell_type": "markdown",
      "metadata": {
        "id": "zN9UqDwTFp5b"
      },
      "source": [
        "**Insight**:\n",
        "- Kolom review_comment_title memiliki 87.656 nilai NaN.\n",
        "- Kolom review_comment_message memiliki 58.247 nilai NaN.\n",
        "- Kedua kolom ini nanti akan dihapus karena tidak akan digunakan."
      ]
    },
    {
      "cell_type": "code",
      "execution_count": 12,
      "metadata": {
        "colab": {
          "base_uri": "https://localhost:8080/"
        },
        "id": "LgFKk53iF_N2",
        "outputId": "ef7492a0-6ced-4b27-a96d-6c7cf0e8cab4"
      },
      "outputs": [
        {
          "name": "stdout",
          "output_type": "stream",
          "text": [
            "Jumlah duplikasi:  0\n"
          ]
        }
      ],
      "source": [
        "print(\"Jumlah duplikasi: \", reviews_df.duplicated().sum())"
      ]
    },
    {
      "cell_type": "markdown",
      "metadata": {
        "id": "MOd-tl9BGFfM"
      },
      "source": [
        "**Insight**:\n",
        "- Tidak ada duplikasi"
      ]
    },
    {
      "cell_type": "code",
      "execution_count": 13,
      "metadata": {
        "colab": {
          "base_uri": "https://localhost:8080/",
          "height": 300
        },
        "id": "GQrUJkd_GI4Z",
        "outputId": "3a7a28ff-39c1-4950-a51d-df6404c602fe"
      },
      "outputs": [
        {
          "data": {
            "text/html": [
              "<div>\n",
              "<style scoped>\n",
              "    .dataframe tbody tr th:only-of-type {\n",
              "        vertical-align: middle;\n",
              "    }\n",
              "\n",
              "    .dataframe tbody tr th {\n",
              "        vertical-align: top;\n",
              "    }\n",
              "\n",
              "    .dataframe thead th {\n",
              "        text-align: right;\n",
              "    }\n",
              "</style>\n",
              "<table border=\"1\" class=\"dataframe\">\n",
              "  <thead>\n",
              "    <tr style=\"text-align: right;\">\n",
              "      <th></th>\n",
              "      <th>review_score</th>\n",
              "    </tr>\n",
              "  </thead>\n",
              "  <tbody>\n",
              "    <tr>\n",
              "      <th>count</th>\n",
              "      <td>99224.000000</td>\n",
              "    </tr>\n",
              "    <tr>\n",
              "      <th>mean</th>\n",
              "      <td>4.086421</td>\n",
              "    </tr>\n",
              "    <tr>\n",
              "      <th>std</th>\n",
              "      <td>1.347579</td>\n",
              "    </tr>\n",
              "    <tr>\n",
              "      <th>min</th>\n",
              "      <td>1.000000</td>\n",
              "    </tr>\n",
              "    <tr>\n",
              "      <th>25%</th>\n",
              "      <td>4.000000</td>\n",
              "    </tr>\n",
              "    <tr>\n",
              "      <th>50%</th>\n",
              "      <td>5.000000</td>\n",
              "    </tr>\n",
              "    <tr>\n",
              "      <th>75%</th>\n",
              "      <td>5.000000</td>\n",
              "    </tr>\n",
              "    <tr>\n",
              "      <th>max</th>\n",
              "      <td>5.000000</td>\n",
              "    </tr>\n",
              "  </tbody>\n",
              "</table>\n",
              "</div>"
            ],
            "text/plain": [
              "       review_score\n",
              "count  99224.000000\n",
              "mean       4.086421\n",
              "std        1.347579\n",
              "min        1.000000\n",
              "25%        4.000000\n",
              "50%        5.000000\n",
              "75%        5.000000\n",
              "max        5.000000"
            ]
          },
          "execution_count": 13,
          "metadata": {},
          "output_type": "execute_result"
        }
      ],
      "source": [
        "reviews_df.describe()"
      ]
    },
    {
      "cell_type": "markdown",
      "metadata": {
        "id": "vPNsYh9tGRBN"
      },
      "source": [
        "Insight:\n",
        "- Tidak ada keanehan nilai pada review_score. Masuk akal dengan minimum 1 dan maksimum 5."
      ]
    },
    {
      "cell_type": "markdown",
      "metadata": {
        "id": "-XncLdP9GeX9"
      },
      "source": [
        "### Menilai data customers_df"
      ]
    },
    {
      "cell_type": "code",
      "execution_count": 14,
      "metadata": {
        "colab": {
          "base_uri": "https://localhost:8080/"
        },
        "id": "9MZcKhfEGl8-",
        "outputId": "1db2df09-8d62-4f6c-b32f-ba59dd68d06a"
      },
      "outputs": [
        {
          "name": "stdout",
          "output_type": "stream",
          "text": [
            "<class 'pandas.core.frame.DataFrame'>\n",
            "RangeIndex: 99441 entries, 0 to 99440\n",
            "Data columns (total 5 columns):\n",
            " #   Column                    Non-Null Count  Dtype \n",
            "---  ------                    --------------  ----- \n",
            " 0   customer_id               99441 non-null  object\n",
            " 1   customer_unique_id        99441 non-null  object\n",
            " 2   customer_zip_code_prefix  99441 non-null  int64 \n",
            " 3   customer_city             99441 non-null  object\n",
            " 4   customer_state            99441 non-null  object\n",
            "dtypes: int64(1), object(4)\n",
            "memory usage: 3.8+ MB\n"
          ]
        }
      ],
      "source": [
        "customers_df.info()"
      ]
    },
    {
      "cell_type": "markdown",
      "metadata": {
        "id": "TxBGHJ1ZHoGo"
      },
      "source": [
        "**Insight**:\n",
        "- Terdapat total 99.441 data.\n",
        "- Semua kolom tidak memiliki nilai NaN."
      ]
    },
    {
      "cell_type": "code",
      "execution_count": 15,
      "metadata": {
        "colab": {
          "base_uri": "https://localhost:8080/"
        },
        "id": "CUys5xbKIKVL",
        "outputId": "d179380d-2d27-461b-a21c-66defda86b90"
      },
      "outputs": [
        {
          "name": "stdout",
          "output_type": "stream",
          "text": [
            "Jumlah duplikasi:  0\n"
          ]
        }
      ],
      "source": [
        "print(\"Jumlah duplikasi: \", customers_df.duplicated().sum())"
      ]
    },
    {
      "cell_type": "markdown",
      "metadata": {
        "id": "Tszwa9fPH9Yf"
      },
      "source": [
        "**Insight**:\n",
        "- Tidak ada duplikasi."
      ]
    },
    {
      "cell_type": "code",
      "execution_count": 16,
      "metadata": {
        "colab": {
          "base_uri": "https://localhost:8080/",
          "height": 300
        },
        "id": "8Wp8RCKtISCr",
        "outputId": "d0f9bae7-ccb9-40c1-a540-d18b405d09f3"
      },
      "outputs": [
        {
          "data": {
            "text/html": [
              "<div>\n",
              "<style scoped>\n",
              "    .dataframe tbody tr th:only-of-type {\n",
              "        vertical-align: middle;\n",
              "    }\n",
              "\n",
              "    .dataframe tbody tr th {\n",
              "        vertical-align: top;\n",
              "    }\n",
              "\n",
              "    .dataframe thead th {\n",
              "        text-align: right;\n",
              "    }\n",
              "</style>\n",
              "<table border=\"1\" class=\"dataframe\">\n",
              "  <thead>\n",
              "    <tr style=\"text-align: right;\">\n",
              "      <th></th>\n",
              "      <th>customer_zip_code_prefix</th>\n",
              "    </tr>\n",
              "  </thead>\n",
              "  <tbody>\n",
              "    <tr>\n",
              "      <th>count</th>\n",
              "      <td>99441.000000</td>\n",
              "    </tr>\n",
              "    <tr>\n",
              "      <th>mean</th>\n",
              "      <td>35137.474583</td>\n",
              "    </tr>\n",
              "    <tr>\n",
              "      <th>std</th>\n",
              "      <td>29797.938996</td>\n",
              "    </tr>\n",
              "    <tr>\n",
              "      <th>min</th>\n",
              "      <td>1003.000000</td>\n",
              "    </tr>\n",
              "    <tr>\n",
              "      <th>25%</th>\n",
              "      <td>11347.000000</td>\n",
              "    </tr>\n",
              "    <tr>\n",
              "      <th>50%</th>\n",
              "      <td>24416.000000</td>\n",
              "    </tr>\n",
              "    <tr>\n",
              "      <th>75%</th>\n",
              "      <td>58900.000000</td>\n",
              "    </tr>\n",
              "    <tr>\n",
              "      <th>max</th>\n",
              "      <td>99990.000000</td>\n",
              "    </tr>\n",
              "  </tbody>\n",
              "</table>\n",
              "</div>"
            ],
            "text/plain": [
              "       customer_zip_code_prefix\n",
              "count              99441.000000\n",
              "mean               35137.474583\n",
              "std                29797.938996\n",
              "min                 1003.000000\n",
              "25%                11347.000000\n",
              "50%                24416.000000\n",
              "75%                58900.000000\n",
              "max                99990.000000"
            ]
          },
          "execution_count": 16,
          "metadata": {},
          "output_type": "execute_result"
        }
      ],
      "source": [
        "customers_df.describe()"
      ]
    },
    {
      "cell_type": "markdown",
      "metadata": {
        "id": "h2rv6NF4Ikxh"
      },
      "source": [
        "**Insight**:\n",
        "- Tidak ada keanehan nilai pada customers_df."
      ]
    },
    {
      "cell_type": "markdown",
      "metadata": {
        "id": "LYVHYe1GIpuA"
      },
      "source": [
        "### Menilai data payments_df"
      ]
    },
    {
      "cell_type": "code",
      "execution_count": 17,
      "metadata": {
        "colab": {
          "base_uri": "https://localhost:8080/"
        },
        "id": "053THWN2Ivqp",
        "outputId": "ef92f10d-ee53-4180-b23e-ae67118d505e"
      },
      "outputs": [
        {
          "name": "stdout",
          "output_type": "stream",
          "text": [
            "<class 'pandas.core.frame.DataFrame'>\n",
            "RangeIndex: 103886 entries, 0 to 103885\n",
            "Data columns (total 5 columns):\n",
            " #   Column                Non-Null Count   Dtype  \n",
            "---  ------                --------------   -----  \n",
            " 0   order_id              103886 non-null  object \n",
            " 1   payment_sequential    103886 non-null  int64  \n",
            " 2   payment_type          103886 non-null  object \n",
            " 3   payment_installments  103886 non-null  int64  \n",
            " 4   payment_value         103886 non-null  float64\n",
            "dtypes: float64(1), int64(2), object(2)\n",
            "memory usage: 4.0+ MB\n"
          ]
        }
      ],
      "source": [
        "payments_df.info()"
      ]
    },
    {
      "cell_type": "markdown",
      "metadata": {
        "id": "AKx3mSIfI3GT"
      },
      "source": [
        "Insight:\n",
        "- Terdapat total 103.886 data.\n",
        "- Semua kolom tidak memiliki nilai NaN."
      ]
    },
    {
      "cell_type": "code",
      "execution_count": 18,
      "metadata": {
        "colab": {
          "base_uri": "https://localhost:8080/"
        },
        "id": "JOYhPMcSJHgy",
        "outputId": "080bd889-390d-432e-c4f6-ab16364ed141"
      },
      "outputs": [
        {
          "name": "stdout",
          "output_type": "stream",
          "text": [
            "Jumlah duplikasi:  0\n"
          ]
        }
      ],
      "source": [
        "print(\"Jumlah duplikasi: \", payments_df.duplicated().sum())"
      ]
    },
    {
      "cell_type": "markdown",
      "metadata": {
        "id": "8t2RlRETJK7T"
      },
      "source": [
        "Insight:\n",
        "- Tidak ada duplikasi."
      ]
    },
    {
      "cell_type": "code",
      "execution_count": 19,
      "metadata": {
        "colab": {
          "base_uri": "https://localhost:8080/",
          "height": 300
        },
        "id": "VnD5HWy0JOFN",
        "outputId": "e816de76-77fb-4740-de65-dd09cce05f3d"
      },
      "outputs": [
        {
          "data": {
            "text/html": [
              "<div>\n",
              "<style scoped>\n",
              "    .dataframe tbody tr th:only-of-type {\n",
              "        vertical-align: middle;\n",
              "    }\n",
              "\n",
              "    .dataframe tbody tr th {\n",
              "        vertical-align: top;\n",
              "    }\n",
              "\n",
              "    .dataframe thead th {\n",
              "        text-align: right;\n",
              "    }\n",
              "</style>\n",
              "<table border=\"1\" class=\"dataframe\">\n",
              "  <thead>\n",
              "    <tr style=\"text-align: right;\">\n",
              "      <th></th>\n",
              "      <th>payment_sequential</th>\n",
              "      <th>payment_installments</th>\n",
              "      <th>payment_value</th>\n",
              "    </tr>\n",
              "  </thead>\n",
              "  <tbody>\n",
              "    <tr>\n",
              "      <th>count</th>\n",
              "      <td>103886.000000</td>\n",
              "      <td>103886.000000</td>\n",
              "      <td>103886.000000</td>\n",
              "    </tr>\n",
              "    <tr>\n",
              "      <th>mean</th>\n",
              "      <td>1.092679</td>\n",
              "      <td>2.853349</td>\n",
              "      <td>154.100380</td>\n",
              "    </tr>\n",
              "    <tr>\n",
              "      <th>std</th>\n",
              "      <td>0.706584</td>\n",
              "      <td>2.687051</td>\n",
              "      <td>217.494064</td>\n",
              "    </tr>\n",
              "    <tr>\n",
              "      <th>min</th>\n",
              "      <td>1.000000</td>\n",
              "      <td>0.000000</td>\n",
              "      <td>0.000000</td>\n",
              "    </tr>\n",
              "    <tr>\n",
              "      <th>25%</th>\n",
              "      <td>1.000000</td>\n",
              "      <td>1.000000</td>\n",
              "      <td>56.790000</td>\n",
              "    </tr>\n",
              "    <tr>\n",
              "      <th>50%</th>\n",
              "      <td>1.000000</td>\n",
              "      <td>1.000000</td>\n",
              "      <td>100.000000</td>\n",
              "    </tr>\n",
              "    <tr>\n",
              "      <th>75%</th>\n",
              "      <td>1.000000</td>\n",
              "      <td>4.000000</td>\n",
              "      <td>171.837500</td>\n",
              "    </tr>\n",
              "    <tr>\n",
              "      <th>max</th>\n",
              "      <td>29.000000</td>\n",
              "      <td>24.000000</td>\n",
              "      <td>13664.080000</td>\n",
              "    </tr>\n",
              "  </tbody>\n",
              "</table>\n",
              "</div>"
            ],
            "text/plain": [
              "       payment_sequential  payment_installments  payment_value\n",
              "count       103886.000000         103886.000000  103886.000000\n",
              "mean             1.092679              2.853349     154.100380\n",
              "std              0.706584              2.687051     217.494064\n",
              "min              1.000000              0.000000       0.000000\n",
              "25%              1.000000              1.000000      56.790000\n",
              "50%              1.000000              1.000000     100.000000\n",
              "75%              1.000000              4.000000     171.837500\n",
              "max             29.000000             24.000000   13664.080000"
            ]
          },
          "execution_count": 19,
          "metadata": {},
          "output_type": "execute_result"
        }
      ],
      "source": [
        "payments_df.describe()"
      ]
    },
    {
      "cell_type": "markdown",
      "metadata": {
        "id": "C8vjwqp0KSul"
      },
      "source": [
        "Insight:\n",
        "- Kolom payment_installments dan payment_value memiliki minimum 0, bisa jadi ini data error atau transaksi tidak valid. Nantinya perlu dihapus."
      ]
    },
    {
      "cell_type": "markdown",
      "metadata": {
        "id": "EhN5R4hr8DC1"
      },
      "source": [
        "### Cleaning Data"
      ]
    },
    {
      "cell_type": "markdown",
      "metadata": {
        "id": "32Vhj-mBSA8F"
      },
      "source": [
        "### Membersihkan data orders_df"
      ]
    },
    {
      "cell_type": "code",
      "execution_count": 20,
      "metadata": {
        "id": "jVnYpprE9Evz"
      },
      "outputs": [],
      "source": [
        "orders_df.dropna(subset=['order_approved_at', 'order_delivered_carrier_date', 'order_delivered_customer_date'], inplace=True)"
      ]
    },
    {
      "cell_type": "code",
      "execution_count": 21,
      "metadata": {
        "colab": {
          "base_uri": "https://localhost:8080/",
          "height": 335
        },
        "id": "dY51XLsJTwFI",
        "outputId": "68269573-5211-4ba6-ba1c-ff42afcb964d"
      },
      "outputs": [
        {
          "data": {
            "text/plain": [
              "order_id                         0\n",
              "customer_id                      0\n",
              "order_status                     0\n",
              "order_purchase_timestamp         0\n",
              "order_approved_at                0\n",
              "order_delivered_carrier_date     0\n",
              "order_delivered_customer_date    0\n",
              "order_estimated_delivery_date    0\n",
              "dtype: int64"
            ]
          },
          "execution_count": 21,
          "metadata": {},
          "output_type": "execute_result"
        }
      ],
      "source": [
        "orders_df.isna().sum()"
      ]
    },
    {
      "cell_type": "markdown",
      "metadata": {
        "id": "Q_5ejIqckiSP"
      },
      "source": [
        "**Insight:**\n",
        "- Semua kolom sudah tidak memiliki nilai NaN."
      ]
    },
    {
      "cell_type": "code",
      "execution_count": 22,
      "metadata": {
        "id": "oeEkCoPHYp3s"
      },
      "outputs": [],
      "source": [
        "datetime_columns = [\"order_purchase_timestamp\",\"order_approved_at\",\"order_delivered_carrier_date\",\"order_delivered_customer_date\",\"order_estimated_delivery_date\"]\n",
        "\n",
        "for column in datetime_columns:\n",
        "    orders_df[column] = pd.to_datetime(orders_df[column])"
      ]
    },
    {
      "cell_type": "code",
      "execution_count": 23,
      "metadata": {
        "colab": {
          "base_uri": "https://localhost:8080/"
        },
        "id": "8XKvM35yY5W3",
        "outputId": "132e35d5-861d-4ecd-9b33-f973c3038a80"
      },
      "outputs": [
        {
          "name": "stdout",
          "output_type": "stream",
          "text": [
            "<class 'pandas.core.frame.DataFrame'>\n",
            "Index: 96461 entries, 0 to 99440\n",
            "Data columns (total 8 columns):\n",
            " #   Column                         Non-Null Count  Dtype         \n",
            "---  ------                         --------------  -----         \n",
            " 0   order_id                       96461 non-null  object        \n",
            " 1   customer_id                    96461 non-null  object        \n",
            " 2   order_status                   96461 non-null  object        \n",
            " 3   order_purchase_timestamp       96461 non-null  datetime64[ns]\n",
            " 4   order_approved_at              96461 non-null  datetime64[ns]\n",
            " 5   order_delivered_carrier_date   96461 non-null  datetime64[ns]\n",
            " 6   order_delivered_customer_date  96461 non-null  datetime64[ns]\n",
            " 7   order_estimated_delivery_date  96461 non-null  datetime64[ns]\n",
            "dtypes: datetime64[ns](5), object(3)\n",
            "memory usage: 6.6+ MB\n"
          ]
        }
      ],
      "source": [
        "orders_df.info()"
      ]
    },
    {
      "cell_type": "markdown",
      "metadata": {
        "id": "caH16LsDY_uz"
      },
      "source": [
        "**Insight**:\n",
        "- Kolom waktu sudah diubah menjadi format datetime."
      ]
    },
    {
      "cell_type": "markdown",
      "metadata": {
        "id": "LY9m0vZkWFzw"
      },
      "source": [
        "### Membersihkan data reviews_df"
      ]
    },
    {
      "cell_type": "code",
      "execution_count": 24,
      "metadata": {
        "id": "xaRbYMwlWJl_"
      },
      "outputs": [],
      "source": [
        "reviews_df.drop(columns=['review_comment_title', 'review_comment_message'], inplace=True)"
      ]
    },
    {
      "cell_type": "code",
      "execution_count": 25,
      "metadata": {
        "colab": {
          "base_uri": "https://localhost:8080/",
          "height": 241
        },
        "id": "R1tGi6kfWPkG",
        "outputId": "469e0f47-3e08-4631-fa8c-c84e47c25efd"
      },
      "outputs": [
        {
          "data": {
            "text/plain": [
              "review_id                  0\n",
              "order_id                   0\n",
              "review_score               0\n",
              "review_creation_date       0\n",
              "review_answer_timestamp    0\n",
              "dtype: int64"
            ]
          },
          "execution_count": 25,
          "metadata": {},
          "output_type": "execute_result"
        }
      ],
      "source": [
        "reviews_df.isna().sum()"
      ]
    },
    {
      "cell_type": "markdown",
      "metadata": {
        "id": "tDkwmkbZWVZc"
      },
      "source": [
        "Insight:\n",
        "- Semua kolom sudah tidak memiliki nilai NaN.\n",
        "- Kolom review_comment_title dan review_comment_message dihapus karena tidak akan digunakan pada proyek ini."
      ]
    },
    {
      "cell_type": "markdown",
      "metadata": {
        "id": "AHx99SusWvGA"
      },
      "source": [
        "### Membersihkan data customers_df"
      ]
    },
    {
      "cell_type": "code",
      "execution_count": 26,
      "metadata": {
        "colab": {
          "base_uri": "https://localhost:8080/"
        },
        "id": "l16G17x9pKDA",
        "outputId": "52dbdab7-9d76-4bc7-ae76-afe0ffa07171"
      },
      "outputs": [
        {
          "name": "stdout",
          "output_type": "stream",
          "text": [
            "<class 'pandas.core.frame.DataFrame'>\n",
            "RangeIndex: 99441 entries, 0 to 99440\n",
            "Data columns (total 5 columns):\n",
            " #   Column                    Non-Null Count  Dtype \n",
            "---  ------                    --------------  ----- \n",
            " 0   customer_id               99441 non-null  object\n",
            " 1   customer_unique_id        99441 non-null  object\n",
            " 2   customer_zip_code_prefix  99441 non-null  int64 \n",
            " 3   customer_city             99441 non-null  object\n",
            " 4   customer_state            99441 non-null  object\n",
            "dtypes: int64(1), object(4)\n",
            "memory usage: 3.8+ MB\n"
          ]
        }
      ],
      "source": [
        "customers_df.info()"
      ]
    },
    {
      "cell_type": "markdown",
      "metadata": {
        "id": "6EiJXvyChPTu"
      },
      "source": [
        "Insight:\n",
        "- Data customers_df sudah bersih dan tidak ada keanehan pada datanya sehingga tidak diperlukan proses pembersihan."
      ]
    },
    {
      "cell_type": "markdown",
      "metadata": {
        "id": "LF_WIbYVhsSH"
      },
      "source": [
        "### Membersihkan data payments_df"
      ]
    },
    {
      "cell_type": "code",
      "execution_count": 27,
      "metadata": {
        "colab": {
          "base_uri": "https://localhost:8080/"
        },
        "id": "70zL9zyvivcb",
        "outputId": "6921f933-5e3c-41c6-df79-ea6639224214"
      },
      "outputs": [
        {
          "data": {
            "text/plain": [
              "(11, 5)"
            ]
          },
          "execution_count": 27,
          "metadata": {},
          "output_type": "execute_result"
        }
      ],
      "source": [
        "# Cek jumlah data yang akan dihapus\n",
        "payments_df[(payments_df['payment_value'] == 0) | (payments_df['payment_installments'] == 0)].shape"
      ]
    },
    {
      "cell_type": "code",
      "execution_count": 28,
      "metadata": {
        "id": "VNzuZxBUh3xo"
      },
      "outputs": [],
      "source": [
        "# menghapus data payment_value dan payment_installments yang bernilai 0\n",
        "payments_df = payments_df[(payments_df['payment_value'] > 0) & (payments_df['payment_installments'] > 0)]"
      ]
    },
    {
      "cell_type": "code",
      "execution_count": 29,
      "metadata": {
        "colab": {
          "base_uri": "https://localhost:8080/",
          "height": 394
        },
        "id": "BQ9GIlmHjqNi",
        "outputId": "a259acaf-4389-455b-c0af-71de4c8ac944"
      },
      "outputs": [
        {
          "data": {
            "text/html": [
              "<div>\n",
              "<style scoped>\n",
              "    .dataframe tbody tr th:only-of-type {\n",
              "        vertical-align: middle;\n",
              "    }\n",
              "\n",
              "    .dataframe tbody tr th {\n",
              "        vertical-align: top;\n",
              "    }\n",
              "\n",
              "    .dataframe thead th {\n",
              "        text-align: right;\n",
              "    }\n",
              "</style>\n",
              "<table border=\"1\" class=\"dataframe\">\n",
              "  <thead>\n",
              "    <tr style=\"text-align: right;\">\n",
              "      <th></th>\n",
              "      <th>order_id</th>\n",
              "      <th>payment_sequential</th>\n",
              "      <th>payment_type</th>\n",
              "      <th>payment_installments</th>\n",
              "      <th>payment_value</th>\n",
              "    </tr>\n",
              "  </thead>\n",
              "  <tbody>\n",
              "    <tr>\n",
              "      <th>count</th>\n",
              "      <td>103875</td>\n",
              "      <td>103875.000000</td>\n",
              "      <td>103875</td>\n",
              "      <td>103875.000000</td>\n",
              "      <td>103875.000000</td>\n",
              "    </tr>\n",
              "    <tr>\n",
              "      <th>unique</th>\n",
              "      <td>99435</td>\n",
              "      <td>NaN</td>\n",
              "      <td>4</td>\n",
              "      <td>NaN</td>\n",
              "      <td>NaN</td>\n",
              "    </tr>\n",
              "    <tr>\n",
              "      <th>top</th>\n",
              "      <td>fa65dad1b0e818e3ccc5cb0e39231352</td>\n",
              "      <td>NaN</td>\n",
              "      <td>credit_card</td>\n",
              "      <td>NaN</td>\n",
              "      <td>NaN</td>\n",
              "    </tr>\n",
              "    <tr>\n",
              "      <th>freq</th>\n",
              "      <td>27</td>\n",
              "      <td>NaN</td>\n",
              "      <td>76793</td>\n",
              "      <td>NaN</td>\n",
              "      <td>NaN</td>\n",
              "    </tr>\n",
              "    <tr>\n",
              "      <th>mean</th>\n",
              "      <td>NaN</td>\n",
              "      <td>1.092323</td>\n",
              "      <td>NaN</td>\n",
              "      <td>2.853564</td>\n",
              "      <td>154.114883</td>\n",
              "    </tr>\n",
              "    <tr>\n",
              "      <th>std</th>\n",
              "      <td>NaN</td>\n",
              "      <td>0.704308</td>\n",
              "      <td>NaN</td>\n",
              "      <td>2.687108</td>\n",
              "      <td>217.500635</td>\n",
              "    </tr>\n",
              "    <tr>\n",
              "      <th>min</th>\n",
              "      <td>NaN</td>\n",
              "      <td>1.000000</td>\n",
              "      <td>NaN</td>\n",
              "      <td>1.000000</td>\n",
              "      <td>0.010000</td>\n",
              "    </tr>\n",
              "    <tr>\n",
              "      <th>25%</th>\n",
              "      <td>NaN</td>\n",
              "      <td>1.000000</td>\n",
              "      <td>NaN</td>\n",
              "      <td>1.000000</td>\n",
              "      <td>56.815000</td>\n",
              "    </tr>\n",
              "    <tr>\n",
              "      <th>50%</th>\n",
              "      <td>NaN</td>\n",
              "      <td>1.000000</td>\n",
              "      <td>NaN</td>\n",
              "      <td>1.000000</td>\n",
              "      <td>100.000000</td>\n",
              "    </tr>\n",
              "    <tr>\n",
              "      <th>75%</th>\n",
              "      <td>NaN</td>\n",
              "      <td>1.000000</td>\n",
              "      <td>NaN</td>\n",
              "      <td>4.000000</td>\n",
              "      <td>171.840000</td>\n",
              "    </tr>\n",
              "    <tr>\n",
              "      <th>max</th>\n",
              "      <td>NaN</td>\n",
              "      <td>29.000000</td>\n",
              "      <td>NaN</td>\n",
              "      <td>24.000000</td>\n",
              "      <td>13664.080000</td>\n",
              "    </tr>\n",
              "  </tbody>\n",
              "</table>\n",
              "</div>"
            ],
            "text/plain": [
              "                                order_id  payment_sequential payment_type  \\\n",
              "count                             103875       103875.000000       103875   \n",
              "unique                             99435                 NaN            4   \n",
              "top     fa65dad1b0e818e3ccc5cb0e39231352                 NaN  credit_card   \n",
              "freq                                  27                 NaN        76793   \n",
              "mean                                 NaN            1.092323          NaN   \n",
              "std                                  NaN            0.704308          NaN   \n",
              "min                                  NaN            1.000000          NaN   \n",
              "25%                                  NaN            1.000000          NaN   \n",
              "50%                                  NaN            1.000000          NaN   \n",
              "75%                                  NaN            1.000000          NaN   \n",
              "max                                  NaN           29.000000          NaN   \n",
              "\n",
              "        payment_installments  payment_value  \n",
              "count          103875.000000  103875.000000  \n",
              "unique                   NaN            NaN  \n",
              "top                      NaN            NaN  \n",
              "freq                     NaN            NaN  \n",
              "mean                2.853564     154.114883  \n",
              "std                 2.687108     217.500635  \n",
              "min                 1.000000       0.010000  \n",
              "25%                 1.000000      56.815000  \n",
              "50%                 1.000000     100.000000  \n",
              "75%                 4.000000     171.840000  \n",
              "max                24.000000   13664.080000  "
            ]
          },
          "execution_count": 29,
          "metadata": {},
          "output_type": "execute_result"
        }
      ],
      "source": [
        "payments_df.describe(include=\"all\")"
      ]
    },
    {
      "cell_type": "markdown",
      "metadata": {
        "id": "fkGpJtUUjzv8"
      },
      "source": [
        "Insight:\n",
        "- payment_installments memiliki minimum 1 dan maksimum 24.\n",
        "- payment_value memiliki minimum 0.01 dan maksimum 13664.08.\n",
        "- Kedua kolom ini sudah memiliki nilai yang logis."
      ]
    },
    {
      "cell_type": "markdown",
      "metadata": {
        "id": "gp-Y6wU38DC1"
      },
      "source": [
        "## Exploratory Data Analysis (EDA)"
      ]
    },
    {
      "cell_type": "markdown",
      "metadata": {
        "id": "MW7WF2kr8DC1"
      },
      "source": [
        "### Explore data orders_df"
      ]
    },
    {
      "cell_type": "code",
      "execution_count": 30,
      "metadata": {
        "id": "e9CQCZjk8DC2"
      },
      "outputs": [],
      "source": [
        "# hitung lama pengiriman product dalam hari\n",
        "orders_df[\"delivery_duration\"] = (orders_df[\"order_delivered_customer_date\"] - orders_df[\"order_purchase_timestamp\"]).dt.days"
      ]
    },
    {
      "cell_type": "code",
      "execution_count": 31,
      "metadata": {
        "colab": {
          "base_uri": "https://localhost:8080/",
          "height": 226
        },
        "id": "wF9iHJfRbLqi",
        "outputId": "008c2533-4964-4be0-bd8d-e844b9519802"
      },
      "outputs": [
        {
          "data": {
            "text/html": [
              "<div>\n",
              "<style scoped>\n",
              "    .dataframe tbody tr th:only-of-type {\n",
              "        vertical-align: middle;\n",
              "    }\n",
              "\n",
              "    .dataframe tbody tr th {\n",
              "        vertical-align: top;\n",
              "    }\n",
              "\n",
              "    .dataframe thead th {\n",
              "        text-align: right;\n",
              "    }\n",
              "</style>\n",
              "<table border=\"1\" class=\"dataframe\">\n",
              "  <thead>\n",
              "    <tr style=\"text-align: right;\">\n",
              "      <th></th>\n",
              "      <th>order_id</th>\n",
              "      <th>customer_id</th>\n",
              "      <th>order_status</th>\n",
              "      <th>order_purchase_timestamp</th>\n",
              "      <th>order_approved_at</th>\n",
              "      <th>order_delivered_carrier_date</th>\n",
              "      <th>order_delivered_customer_date</th>\n",
              "      <th>order_estimated_delivery_date</th>\n",
              "      <th>delivery_duration</th>\n",
              "    </tr>\n",
              "  </thead>\n",
              "  <tbody>\n",
              "    <tr>\n",
              "      <th>0</th>\n",
              "      <td>e481f51cbdc54678b7cc49136f2d6af7</td>\n",
              "      <td>9ef432eb6251297304e76186b10a928d</td>\n",
              "      <td>delivered</td>\n",
              "      <td>2017-10-02 10:56:33</td>\n",
              "      <td>2017-10-02 11:07:15</td>\n",
              "      <td>2017-10-04 19:55:00</td>\n",
              "      <td>2017-10-10 21:25:13</td>\n",
              "      <td>2017-10-18</td>\n",
              "      <td>8</td>\n",
              "    </tr>\n",
              "    <tr>\n",
              "      <th>1</th>\n",
              "      <td>53cdb2fc8bc7dce0b6741e2150273451</td>\n",
              "      <td>b0830fb4747a6c6d20dea0b8c802d7ef</td>\n",
              "      <td>delivered</td>\n",
              "      <td>2018-07-24 20:41:37</td>\n",
              "      <td>2018-07-26 03:24:27</td>\n",
              "      <td>2018-07-26 14:31:00</td>\n",
              "      <td>2018-08-07 15:27:45</td>\n",
              "      <td>2018-08-13</td>\n",
              "      <td>13</td>\n",
              "    </tr>\n",
              "    <tr>\n",
              "      <th>2</th>\n",
              "      <td>47770eb9100c2d0c44946d9cf07ec65d</td>\n",
              "      <td>41ce2a54c0b03bf3443c3d931a367089</td>\n",
              "      <td>delivered</td>\n",
              "      <td>2018-08-08 08:38:49</td>\n",
              "      <td>2018-08-08 08:55:23</td>\n",
              "      <td>2018-08-08 13:50:00</td>\n",
              "      <td>2018-08-17 18:06:29</td>\n",
              "      <td>2018-09-04</td>\n",
              "      <td>9</td>\n",
              "    </tr>\n",
              "    <tr>\n",
              "      <th>3</th>\n",
              "      <td>949d5b44dbf5de918fe9c16f97b45f8a</td>\n",
              "      <td>f88197465ea7920adcdbec7375364d82</td>\n",
              "      <td>delivered</td>\n",
              "      <td>2017-11-18 19:28:06</td>\n",
              "      <td>2017-11-18 19:45:59</td>\n",
              "      <td>2017-11-22 13:39:59</td>\n",
              "      <td>2017-12-02 00:28:42</td>\n",
              "      <td>2017-12-15</td>\n",
              "      <td>13</td>\n",
              "    </tr>\n",
              "    <tr>\n",
              "      <th>4</th>\n",
              "      <td>ad21c59c0840e6cb83a9ceb5573f8159</td>\n",
              "      <td>8ab97904e6daea8866dbdbc4fb7aad2c</td>\n",
              "      <td>delivered</td>\n",
              "      <td>2018-02-13 21:18:39</td>\n",
              "      <td>2018-02-13 22:20:29</td>\n",
              "      <td>2018-02-14 19:46:34</td>\n",
              "      <td>2018-02-16 18:17:02</td>\n",
              "      <td>2018-02-26</td>\n",
              "      <td>2</td>\n",
              "    </tr>\n",
              "  </tbody>\n",
              "</table>\n",
              "</div>"
            ],
            "text/plain": [
              "                           order_id                       customer_id  \\\n",
              "0  e481f51cbdc54678b7cc49136f2d6af7  9ef432eb6251297304e76186b10a928d   \n",
              "1  53cdb2fc8bc7dce0b6741e2150273451  b0830fb4747a6c6d20dea0b8c802d7ef   \n",
              "2  47770eb9100c2d0c44946d9cf07ec65d  41ce2a54c0b03bf3443c3d931a367089   \n",
              "3  949d5b44dbf5de918fe9c16f97b45f8a  f88197465ea7920adcdbec7375364d82   \n",
              "4  ad21c59c0840e6cb83a9ceb5573f8159  8ab97904e6daea8866dbdbc4fb7aad2c   \n",
              "\n",
              "  order_status order_purchase_timestamp   order_approved_at  \\\n",
              "0    delivered      2017-10-02 10:56:33 2017-10-02 11:07:15   \n",
              "1    delivered      2018-07-24 20:41:37 2018-07-26 03:24:27   \n",
              "2    delivered      2018-08-08 08:38:49 2018-08-08 08:55:23   \n",
              "3    delivered      2017-11-18 19:28:06 2017-11-18 19:45:59   \n",
              "4    delivered      2018-02-13 21:18:39 2018-02-13 22:20:29   \n",
              "\n",
              "  order_delivered_carrier_date order_delivered_customer_date  \\\n",
              "0          2017-10-04 19:55:00           2017-10-10 21:25:13   \n",
              "1          2018-07-26 14:31:00           2018-08-07 15:27:45   \n",
              "2          2018-08-08 13:50:00           2018-08-17 18:06:29   \n",
              "3          2017-11-22 13:39:59           2017-12-02 00:28:42   \n",
              "4          2018-02-14 19:46:34           2018-02-16 18:17:02   \n",
              "\n",
              "  order_estimated_delivery_date  delivery_duration  \n",
              "0                    2017-10-18                  8  \n",
              "1                    2018-08-13                 13  \n",
              "2                    2018-09-04                  9  \n",
              "3                    2017-12-15                 13  \n",
              "4                    2018-02-26                  2  "
            ]
          },
          "execution_count": 31,
          "metadata": {},
          "output_type": "execute_result"
        }
      ],
      "source": [
        "orders_df.head()"
      ]
    },
    {
      "cell_type": "code",
      "execution_count": 32,
      "metadata": {
        "colab": {
          "base_uri": "https://localhost:8080/",
          "height": 432
        },
        "id": "pHEilTxYbEfp",
        "outputId": "93cba941-ddea-4d0a-c912-f9043626c40a"
      },
      "outputs": [
        {
          "data": {
            "text/html": [
              "<div>\n",
              "<style scoped>\n",
              "    .dataframe tbody tr th:only-of-type {\n",
              "        vertical-align: middle;\n",
              "    }\n",
              "\n",
              "    .dataframe tbody tr th {\n",
              "        vertical-align: top;\n",
              "    }\n",
              "\n",
              "    .dataframe thead th {\n",
              "        text-align: right;\n",
              "    }\n",
              "</style>\n",
              "<table border=\"1\" class=\"dataframe\">\n",
              "  <thead>\n",
              "    <tr style=\"text-align: right;\">\n",
              "      <th></th>\n",
              "      <th>order_id</th>\n",
              "      <th>customer_id</th>\n",
              "      <th>order_status</th>\n",
              "      <th>order_purchase_timestamp</th>\n",
              "      <th>order_approved_at</th>\n",
              "      <th>order_delivered_carrier_date</th>\n",
              "      <th>order_delivered_customer_date</th>\n",
              "      <th>order_estimated_delivery_date</th>\n",
              "      <th>delivery_duration</th>\n",
              "    </tr>\n",
              "  </thead>\n",
              "  <tbody>\n",
              "    <tr>\n",
              "      <th>count</th>\n",
              "      <td>96461</td>\n",
              "      <td>96461</td>\n",
              "      <td>96461</td>\n",
              "      <td>96461</td>\n",
              "      <td>96461</td>\n",
              "      <td>96461</td>\n",
              "      <td>96461</td>\n",
              "      <td>96461</td>\n",
              "      <td>96461.000000</td>\n",
              "    </tr>\n",
              "    <tr>\n",
              "      <th>unique</th>\n",
              "      <td>96461</td>\n",
              "      <td>96461</td>\n",
              "      <td>2</td>\n",
              "      <td>NaN</td>\n",
              "      <td>NaN</td>\n",
              "      <td>NaN</td>\n",
              "      <td>NaN</td>\n",
              "      <td>NaN</td>\n",
              "      <td>NaN</td>\n",
              "    </tr>\n",
              "    <tr>\n",
              "      <th>top</th>\n",
              "      <td>e481f51cbdc54678b7cc49136f2d6af7</td>\n",
              "      <td>9ef432eb6251297304e76186b10a928d</td>\n",
              "      <td>delivered</td>\n",
              "      <td>NaN</td>\n",
              "      <td>NaN</td>\n",
              "      <td>NaN</td>\n",
              "      <td>NaN</td>\n",
              "      <td>NaN</td>\n",
              "      <td>NaN</td>\n",
              "    </tr>\n",
              "    <tr>\n",
              "      <th>freq</th>\n",
              "      <td>1</td>\n",
              "      <td>1</td>\n",
              "      <td>96455</td>\n",
              "      <td>NaN</td>\n",
              "      <td>NaN</td>\n",
              "      <td>NaN</td>\n",
              "      <td>NaN</td>\n",
              "      <td>NaN</td>\n",
              "      <td>NaN</td>\n",
              "    </tr>\n",
              "    <tr>\n",
              "      <th>mean</th>\n",
              "      <td>NaN</td>\n",
              "      <td>NaN</td>\n",
              "      <td>NaN</td>\n",
              "      <td>2018-01-01 23:53:26.642249216</td>\n",
              "      <td>2018-01-02 10:10:06.480142336</td>\n",
              "      <td>2018-01-05 05:21:04.508827392</td>\n",
              "      <td>2018-01-14 13:17:13.228102400</td>\n",
              "      <td>2018-01-25 17:33:14.236012544</td>\n",
              "      <td>12.093582</td>\n",
              "    </tr>\n",
              "    <tr>\n",
              "      <th>min</th>\n",
              "      <td>NaN</td>\n",
              "      <td>NaN</td>\n",
              "      <td>NaN</td>\n",
              "      <td>2016-09-15 12:16:38</td>\n",
              "      <td>2016-09-15 12:16:38</td>\n",
              "      <td>2016-10-08 10:34:01</td>\n",
              "      <td>2016-10-11 13:46:32</td>\n",
              "      <td>2016-10-04 00:00:00</td>\n",
              "      <td>0.000000</td>\n",
              "    </tr>\n",
              "    <tr>\n",
              "      <th>25%</th>\n",
              "      <td>NaN</td>\n",
              "      <td>NaN</td>\n",
              "      <td>NaN</td>\n",
              "      <td>2017-09-14 09:28:28</td>\n",
              "      <td>2017-09-14 14:30:14</td>\n",
              "      <td>2017-09-18 16:52:19</td>\n",
              "      <td>2017-09-25 22:31:59</td>\n",
              "      <td>2017-10-05 00:00:00</td>\n",
              "      <td>6.000000</td>\n",
              "    </tr>\n",
              "    <tr>\n",
              "      <th>50%</th>\n",
              "      <td>NaN</td>\n",
              "      <td>NaN</td>\n",
              "      <td>NaN</td>\n",
              "      <td>2018-01-20 19:59:42</td>\n",
              "      <td>2018-01-22 13:49:00</td>\n",
              "      <td>2018-01-24 16:19:03</td>\n",
              "      <td>2018-02-02 19:50:56</td>\n",
              "      <td>2018-02-16 00:00:00</td>\n",
              "      <td>10.000000</td>\n",
              "    </tr>\n",
              "    <tr>\n",
              "      <th>75%</th>\n",
              "      <td>NaN</td>\n",
              "      <td>NaN</td>\n",
              "      <td>NaN</td>\n",
              "      <td>2018-05-05 18:33:24</td>\n",
              "      <td>2018-05-06 10:30:49</td>\n",
              "      <td>2018-05-08 14:33:00</td>\n",
              "      <td>2018-05-15 23:08:54</td>\n",
              "      <td>2018-05-28 00:00:00</td>\n",
              "      <td>15.000000</td>\n",
              "    </tr>\n",
              "    <tr>\n",
              "      <th>max</th>\n",
              "      <td>NaN</td>\n",
              "      <td>NaN</td>\n",
              "      <td>NaN</td>\n",
              "      <td>2018-08-29 15:00:37</td>\n",
              "      <td>2018-08-29 15:10:26</td>\n",
              "      <td>2018-09-11 19:48:28</td>\n",
              "      <td>2018-10-17 13:22:46</td>\n",
              "      <td>2018-10-25 00:00:00</td>\n",
              "      <td>209.000000</td>\n",
              "    </tr>\n",
              "    <tr>\n",
              "      <th>std</th>\n",
              "      <td>NaN</td>\n",
              "      <td>NaN</td>\n",
              "      <td>NaN</td>\n",
              "      <td>NaN</td>\n",
              "      <td>NaN</td>\n",
              "      <td>NaN</td>\n",
              "      <td>NaN</td>\n",
              "      <td>NaN</td>\n",
              "      <td>9.551576</td>\n",
              "    </tr>\n",
              "  </tbody>\n",
              "</table>\n",
              "</div>"
            ],
            "text/plain": [
              "                                order_id                       customer_id  \\\n",
              "count                              96461                             96461   \n",
              "unique                             96461                             96461   \n",
              "top     e481f51cbdc54678b7cc49136f2d6af7  9ef432eb6251297304e76186b10a928d   \n",
              "freq                                   1                                 1   \n",
              "mean                                 NaN                               NaN   \n",
              "min                                  NaN                               NaN   \n",
              "25%                                  NaN                               NaN   \n",
              "50%                                  NaN                               NaN   \n",
              "75%                                  NaN                               NaN   \n",
              "max                                  NaN                               NaN   \n",
              "std                                  NaN                               NaN   \n",
              "\n",
              "       order_status       order_purchase_timestamp  \\\n",
              "count         96461                          96461   \n",
              "unique            2                            NaN   \n",
              "top       delivered                            NaN   \n",
              "freq          96455                            NaN   \n",
              "mean            NaN  2018-01-01 23:53:26.642249216   \n",
              "min             NaN            2016-09-15 12:16:38   \n",
              "25%             NaN            2017-09-14 09:28:28   \n",
              "50%             NaN            2018-01-20 19:59:42   \n",
              "75%             NaN            2018-05-05 18:33:24   \n",
              "max             NaN            2018-08-29 15:00:37   \n",
              "std             NaN                            NaN   \n",
              "\n",
              "                    order_approved_at   order_delivered_carrier_date  \\\n",
              "count                           96461                          96461   \n",
              "unique                            NaN                            NaN   \n",
              "top                               NaN                            NaN   \n",
              "freq                              NaN                            NaN   \n",
              "mean    2018-01-02 10:10:06.480142336  2018-01-05 05:21:04.508827392   \n",
              "min               2016-09-15 12:16:38            2016-10-08 10:34:01   \n",
              "25%               2017-09-14 14:30:14            2017-09-18 16:52:19   \n",
              "50%               2018-01-22 13:49:00            2018-01-24 16:19:03   \n",
              "75%               2018-05-06 10:30:49            2018-05-08 14:33:00   \n",
              "max               2018-08-29 15:10:26            2018-09-11 19:48:28   \n",
              "std                               NaN                            NaN   \n",
              "\n",
              "        order_delivered_customer_date  order_estimated_delivery_date  \\\n",
              "count                           96461                          96461   \n",
              "unique                            NaN                            NaN   \n",
              "top                               NaN                            NaN   \n",
              "freq                              NaN                            NaN   \n",
              "mean    2018-01-14 13:17:13.228102400  2018-01-25 17:33:14.236012544   \n",
              "min               2016-10-11 13:46:32            2016-10-04 00:00:00   \n",
              "25%               2017-09-25 22:31:59            2017-10-05 00:00:00   \n",
              "50%               2018-02-02 19:50:56            2018-02-16 00:00:00   \n",
              "75%               2018-05-15 23:08:54            2018-05-28 00:00:00   \n",
              "max               2018-10-17 13:22:46            2018-10-25 00:00:00   \n",
              "std                               NaN                            NaN   \n",
              "\n",
              "        delivery_duration  \n",
              "count        96461.000000  \n",
              "unique                NaN  \n",
              "top                   NaN  \n",
              "freq                  NaN  \n",
              "mean            12.093582  \n",
              "min              0.000000  \n",
              "25%              6.000000  \n",
              "50%             10.000000  \n",
              "75%             15.000000  \n",
              "max            209.000000  \n",
              "std              9.551576  "
            ]
          },
          "execution_count": 32,
          "metadata": {},
          "output_type": "execute_result"
        }
      ],
      "source": [
        "orders_df.describe(include=\"all\")"
      ]
    },
    {
      "cell_type": "code",
      "execution_count": 33,
      "metadata": {
        "colab": {
          "base_uri": "https://localhost:8080/"
        },
        "id": "bptTcclGcs0L",
        "outputId": "58ea4b9e-d5eb-495d-bbc6-a08eaa372879"
      },
      "outputs": [
        {
          "data": {
            "text/plain": [
              "(13, 9)"
            ]
          },
          "execution_count": 33,
          "metadata": {},
          "output_type": "execute_result"
        }
      ],
      "source": [
        "# cek frekuensi delivery duration bernilai 0 hari\n",
        "orders_df[orders_df['delivery_duration'] == 0].shape"
      ]
    },
    {
      "cell_type": "code",
      "execution_count": 34,
      "metadata": {
        "colab": {
          "base_uri": "https://localhost:8080/",
          "height": 444
        },
        "id": "p1ElbMoLc1QG",
        "outputId": "9cd490d5-7c12-4975-c079-23e4990759a0"
      },
      "outputs": [
        {
          "data": {
            "text/html": [
              "<div>\n",
              "<style scoped>\n",
              "    .dataframe tbody tr th:only-of-type {\n",
              "        vertical-align: middle;\n",
              "    }\n",
              "\n",
              "    .dataframe tbody tr th {\n",
              "        vertical-align: top;\n",
              "    }\n",
              "\n",
              "    .dataframe thead th {\n",
              "        text-align: right;\n",
              "    }\n",
              "</style>\n",
              "<table border=\"1\" class=\"dataframe\">\n",
              "  <thead>\n",
              "    <tr style=\"text-align: right;\">\n",
              "      <th></th>\n",
              "      <th>order_id</th>\n",
              "      <th>customer_id</th>\n",
              "      <th>order_status</th>\n",
              "      <th>order_purchase_timestamp</th>\n",
              "      <th>order_approved_at</th>\n",
              "      <th>order_delivered_carrier_date</th>\n",
              "      <th>order_delivered_customer_date</th>\n",
              "      <th>order_estimated_delivery_date</th>\n",
              "      <th>delivery_duration</th>\n",
              "    </tr>\n",
              "  </thead>\n",
              "  <tbody>\n",
              "    <tr>\n",
              "      <th>19590</th>\n",
              "      <td>ca07593549f1816d26a572e06dc1eab6</td>\n",
              "      <td>75683a92331068e2d281b11a7866ba44</td>\n",
              "      <td>delivered</td>\n",
              "      <td>2017-02-21 23:31:27</td>\n",
              "      <td>2017-02-23 02:35:15</td>\n",
              "      <td>2017-03-08 13:47:46</td>\n",
              "      <td>2017-09-19 14:36:39</td>\n",
              "      <td>2017-03-22</td>\n",
              "      <td>209</td>\n",
              "    </tr>\n",
              "    <tr>\n",
              "      <th>55619</th>\n",
              "      <td>1b3190b2dfa9d789e1f14c05b647a14a</td>\n",
              "      <td>d306426abe5fca15e54b645e4462dc7b</td>\n",
              "      <td>delivered</td>\n",
              "      <td>2018-02-23 14:57:35</td>\n",
              "      <td>2018-02-23 15:16:14</td>\n",
              "      <td>2018-02-26 18:49:07</td>\n",
              "      <td>2018-09-19 23:24:07</td>\n",
              "      <td>2018-03-15</td>\n",
              "      <td>208</td>\n",
              "    </tr>\n",
              "    <tr>\n",
              "      <th>61610</th>\n",
              "      <td>440d0d17af552815d15a9e41abe49359</td>\n",
              "      <td>7815125148cfa1e8c7fee1ff7974f16c</td>\n",
              "      <td>delivered</td>\n",
              "      <td>2017-03-07 23:59:51</td>\n",
              "      <td>2017-03-09 01:11:33</td>\n",
              "      <td>2017-03-15 13:00:08</td>\n",
              "      <td>2017-09-19 15:12:50</td>\n",
              "      <td>2017-04-07</td>\n",
              "      <td>195</td>\n",
              "    </tr>\n",
              "    <tr>\n",
              "      <th>70307</th>\n",
              "      <td>2fb597c2f772eca01b1f5c561bf6cc7b</td>\n",
              "      <td>217906bc11a32c1e470eb7e08584894b</td>\n",
              "      <td>delivered</td>\n",
              "      <td>2017-03-08 18:09:02</td>\n",
              "      <td>2017-03-08 18:09:02</td>\n",
              "      <td>2017-03-13 08:54:02</td>\n",
              "      <td>2017-09-19 14:33:17</td>\n",
              "      <td>2017-04-17</td>\n",
              "      <td>194</td>\n",
              "    </tr>\n",
              "    <tr>\n",
              "      <th>89130</th>\n",
              "      <td>285ab9426d6982034523a855f55a885e</td>\n",
              "      <td>9cf2c3fa2632cee748e1a59ca9d09b21</td>\n",
              "      <td>delivered</td>\n",
              "      <td>2017-03-08 22:47:40</td>\n",
              "      <td>2017-03-08 22:47:40</td>\n",
              "      <td>2017-03-09 08:53:20</td>\n",
              "      <td>2017-09-19 14:00:04</td>\n",
              "      <td>2017-04-06</td>\n",
              "      <td>194</td>\n",
              "    </tr>\n",
              "    <tr>\n",
              "      <th>...</th>\n",
              "      <td>...</td>\n",
              "      <td>...</td>\n",
              "      <td>...</td>\n",
              "      <td>...</td>\n",
              "      <td>...</td>\n",
              "      <td>...</td>\n",
              "      <td>...</td>\n",
              "      <td>...</td>\n",
              "      <td>...</td>\n",
              "    </tr>\n",
              "    <tr>\n",
              "      <th>54280</th>\n",
              "      <td>c0740c543da48abb89b054604e7e9250</td>\n",
              "      <td>35b8a8c47538270243c444192f420caf</td>\n",
              "      <td>delivered</td>\n",
              "      <td>2017-11-30 01:02:12</td>\n",
              "      <td>2017-12-02 02:38:28</td>\n",
              "      <td>2017-12-05 00:33:36</td>\n",
              "      <td>2018-01-30 19:35:05</td>\n",
              "      <td>2017-12-26</td>\n",
              "      <td>61</td>\n",
              "    </tr>\n",
              "    <tr>\n",
              "      <th>25921</th>\n",
              "      <td>f8fe2e394d3641489e6a2ca1cc40651e</td>\n",
              "      <td>6edb1e0e082c4b68f129489f442f1e60</td>\n",
              "      <td>delivered</td>\n",
              "      <td>2018-03-16 08:45:57</td>\n",
              "      <td>2018-03-16 09:07:26</td>\n",
              "      <td>2018-03-21 21:25:44</td>\n",
              "      <td>2018-05-16 15:22:52</td>\n",
              "      <td>2018-04-19</td>\n",
              "      <td>61</td>\n",
              "    </tr>\n",
              "    <tr>\n",
              "      <th>89358</th>\n",
              "      <td>d6f8b3535ac92252b48bd5e4c47a6593</td>\n",
              "      <td>44d347aa77b1bae4e5107c9dc3dde6f4</td>\n",
              "      <td>delivered</td>\n",
              "      <td>2018-01-04 23:18:09</td>\n",
              "      <td>2018-01-04 23:28:31</td>\n",
              "      <td>2018-01-10 17:17:53</td>\n",
              "      <td>2018-03-07 21:58:27</td>\n",
              "      <td>2018-01-31</td>\n",
              "      <td>61</td>\n",
              "    </tr>\n",
              "    <tr>\n",
              "      <th>52639</th>\n",
              "      <td>14e02ed9bb6ea11904967b279f41df37</td>\n",
              "      <td>7eb3b8c424afb2a3f29eca17f0654f67</td>\n",
              "      <td>delivered</td>\n",
              "      <td>2018-01-07 14:12:28</td>\n",
              "      <td>2018-01-07 14:26:58</td>\n",
              "      <td>2018-01-08 23:03:50</td>\n",
              "      <td>2018-03-09 17:41:50</td>\n",
              "      <td>2018-02-07</td>\n",
              "      <td>61</td>\n",
              "    </tr>\n",
              "    <tr>\n",
              "      <th>25922</th>\n",
              "      <td>6bf14ce96e0c6026fe21f80a498bb446</td>\n",
              "      <td>82ccacbefc4bf6143a989f42785134b4</td>\n",
              "      <td>delivered</td>\n",
              "      <td>2017-11-24 14:18:01</td>\n",
              "      <td>2017-11-24 16:32:20</td>\n",
              "      <td>2017-11-27 13:07:24</td>\n",
              "      <td>2018-01-24 14:43:28</td>\n",
              "      <td>2017-12-27</td>\n",
              "      <td>61</td>\n",
              "    </tr>\n",
              "  </tbody>\n",
              "</table>\n",
              "<p>288 rows × 9 columns</p>\n",
              "</div>"
            ],
            "text/plain": [
              "                               order_id                       customer_id  \\\n",
              "19590  ca07593549f1816d26a572e06dc1eab6  75683a92331068e2d281b11a7866ba44   \n",
              "55619  1b3190b2dfa9d789e1f14c05b647a14a  d306426abe5fca15e54b645e4462dc7b   \n",
              "61610  440d0d17af552815d15a9e41abe49359  7815125148cfa1e8c7fee1ff7974f16c   \n",
              "70307  2fb597c2f772eca01b1f5c561bf6cc7b  217906bc11a32c1e470eb7e08584894b   \n",
              "89130  285ab9426d6982034523a855f55a885e  9cf2c3fa2632cee748e1a59ca9d09b21   \n",
              "...                                 ...                               ...   \n",
              "54280  c0740c543da48abb89b054604e7e9250  35b8a8c47538270243c444192f420caf   \n",
              "25921  f8fe2e394d3641489e6a2ca1cc40651e  6edb1e0e082c4b68f129489f442f1e60   \n",
              "89358  d6f8b3535ac92252b48bd5e4c47a6593  44d347aa77b1bae4e5107c9dc3dde6f4   \n",
              "52639  14e02ed9bb6ea11904967b279f41df37  7eb3b8c424afb2a3f29eca17f0654f67   \n",
              "25922  6bf14ce96e0c6026fe21f80a498bb446  82ccacbefc4bf6143a989f42785134b4   \n",
              "\n",
              "      order_status order_purchase_timestamp   order_approved_at  \\\n",
              "19590    delivered      2017-02-21 23:31:27 2017-02-23 02:35:15   \n",
              "55619    delivered      2018-02-23 14:57:35 2018-02-23 15:16:14   \n",
              "61610    delivered      2017-03-07 23:59:51 2017-03-09 01:11:33   \n",
              "70307    delivered      2017-03-08 18:09:02 2017-03-08 18:09:02   \n",
              "89130    delivered      2017-03-08 22:47:40 2017-03-08 22:47:40   \n",
              "...            ...                      ...                 ...   \n",
              "54280    delivered      2017-11-30 01:02:12 2017-12-02 02:38:28   \n",
              "25921    delivered      2018-03-16 08:45:57 2018-03-16 09:07:26   \n",
              "89358    delivered      2018-01-04 23:18:09 2018-01-04 23:28:31   \n",
              "52639    delivered      2018-01-07 14:12:28 2018-01-07 14:26:58   \n",
              "25922    delivered      2017-11-24 14:18:01 2017-11-24 16:32:20   \n",
              "\n",
              "      order_delivered_carrier_date order_delivered_customer_date  \\\n",
              "19590          2017-03-08 13:47:46           2017-09-19 14:36:39   \n",
              "55619          2018-02-26 18:49:07           2018-09-19 23:24:07   \n",
              "61610          2017-03-15 13:00:08           2017-09-19 15:12:50   \n",
              "70307          2017-03-13 08:54:02           2017-09-19 14:33:17   \n",
              "89130          2017-03-09 08:53:20           2017-09-19 14:00:04   \n",
              "...                            ...                           ...   \n",
              "54280          2017-12-05 00:33:36           2018-01-30 19:35:05   \n",
              "25921          2018-03-21 21:25:44           2018-05-16 15:22:52   \n",
              "89358          2018-01-10 17:17:53           2018-03-07 21:58:27   \n",
              "52639          2018-01-08 23:03:50           2018-03-09 17:41:50   \n",
              "25922          2017-11-27 13:07:24           2018-01-24 14:43:28   \n",
              "\n",
              "      order_estimated_delivery_date  delivery_duration  \n",
              "19590                    2017-03-22                209  \n",
              "55619                    2018-03-15                208  \n",
              "61610                    2017-04-07                195  \n",
              "70307                    2017-04-17                194  \n",
              "89130                    2017-04-06                194  \n",
              "...                             ...                ...  \n",
              "54280                    2017-12-26                 61  \n",
              "25921                    2018-04-19                 61  \n",
              "89358                    2018-01-31                 61  \n",
              "52639                    2018-02-07                 61  \n",
              "25922                    2017-12-27                 61  \n",
              "\n",
              "[288 rows x 9 columns]"
            ]
          },
          "execution_count": 34,
          "metadata": {},
          "output_type": "execute_result"
        }
      ],
      "source": [
        "# cek waktu pengiriman diatas 60 hari\n",
        "orders_df[orders_df['delivery_duration'] > 60].sort_values(by='delivery_duration', ascending=False)"
      ]
    },
    {
      "cell_type": "code",
      "execution_count": 35,
      "metadata": {
        "colab": {
          "base_uri": "https://localhost:8080/",
          "height": 432
        },
        "id": "tiWrCSEVeT8I",
        "outputId": "b3a0c2f5-8b45-4d17-db45-798928917b3e"
      },
      "outputs": [
        {
          "data": {
            "text/html": [
              "<div>\n",
              "<style scoped>\n",
              "    .dataframe tbody tr th:only-of-type {\n",
              "        vertical-align: middle;\n",
              "    }\n",
              "\n",
              "    .dataframe tbody tr th {\n",
              "        vertical-align: top;\n",
              "    }\n",
              "\n",
              "    .dataframe thead th {\n",
              "        text-align: right;\n",
              "    }\n",
              "</style>\n",
              "<table border=\"1\" class=\"dataframe\">\n",
              "  <thead>\n",
              "    <tr style=\"text-align: right;\">\n",
              "      <th></th>\n",
              "      <th>order_id</th>\n",
              "      <th>customer_id</th>\n",
              "      <th>order_status</th>\n",
              "      <th>order_purchase_timestamp</th>\n",
              "      <th>order_approved_at</th>\n",
              "      <th>order_delivered_carrier_date</th>\n",
              "      <th>order_delivered_customer_date</th>\n",
              "      <th>order_estimated_delivery_date</th>\n",
              "      <th>delivery_duration</th>\n",
              "    </tr>\n",
              "  </thead>\n",
              "  <tbody>\n",
              "    <tr>\n",
              "      <th>count</th>\n",
              "      <td>96461</td>\n",
              "      <td>96461</td>\n",
              "      <td>96461</td>\n",
              "      <td>96461</td>\n",
              "      <td>96461</td>\n",
              "      <td>96461</td>\n",
              "      <td>96461</td>\n",
              "      <td>96461</td>\n",
              "      <td>96461.000000</td>\n",
              "    </tr>\n",
              "    <tr>\n",
              "      <th>unique</th>\n",
              "      <td>96461</td>\n",
              "      <td>96461</td>\n",
              "      <td>2</td>\n",
              "      <td>NaN</td>\n",
              "      <td>NaN</td>\n",
              "      <td>NaN</td>\n",
              "      <td>NaN</td>\n",
              "      <td>NaN</td>\n",
              "      <td>NaN</td>\n",
              "    </tr>\n",
              "    <tr>\n",
              "      <th>top</th>\n",
              "      <td>e481f51cbdc54678b7cc49136f2d6af7</td>\n",
              "      <td>9ef432eb6251297304e76186b10a928d</td>\n",
              "      <td>delivered</td>\n",
              "      <td>NaN</td>\n",
              "      <td>NaN</td>\n",
              "      <td>NaN</td>\n",
              "      <td>NaN</td>\n",
              "      <td>NaN</td>\n",
              "      <td>NaN</td>\n",
              "    </tr>\n",
              "    <tr>\n",
              "      <th>freq</th>\n",
              "      <td>1</td>\n",
              "      <td>1</td>\n",
              "      <td>96455</td>\n",
              "      <td>NaN</td>\n",
              "      <td>NaN</td>\n",
              "      <td>NaN</td>\n",
              "      <td>NaN</td>\n",
              "      <td>NaN</td>\n",
              "      <td>NaN</td>\n",
              "    </tr>\n",
              "    <tr>\n",
              "      <th>mean</th>\n",
              "      <td>NaN</td>\n",
              "      <td>NaN</td>\n",
              "      <td>NaN</td>\n",
              "      <td>2018-01-01 23:53:26.642249216</td>\n",
              "      <td>2018-01-02 10:10:06.480142336</td>\n",
              "      <td>2018-01-05 05:21:04.508827392</td>\n",
              "      <td>2018-01-14 13:17:13.228102400</td>\n",
              "      <td>2018-01-25 17:33:14.236012544</td>\n",
              "      <td>12.093582</td>\n",
              "    </tr>\n",
              "    <tr>\n",
              "      <th>min</th>\n",
              "      <td>NaN</td>\n",
              "      <td>NaN</td>\n",
              "      <td>NaN</td>\n",
              "      <td>2016-09-15 12:16:38</td>\n",
              "      <td>2016-09-15 12:16:38</td>\n",
              "      <td>2016-10-08 10:34:01</td>\n",
              "      <td>2016-10-11 13:46:32</td>\n",
              "      <td>2016-10-04 00:00:00</td>\n",
              "      <td>0.000000</td>\n",
              "    </tr>\n",
              "    <tr>\n",
              "      <th>25%</th>\n",
              "      <td>NaN</td>\n",
              "      <td>NaN</td>\n",
              "      <td>NaN</td>\n",
              "      <td>2017-09-14 09:28:28</td>\n",
              "      <td>2017-09-14 14:30:14</td>\n",
              "      <td>2017-09-18 16:52:19</td>\n",
              "      <td>2017-09-25 22:31:59</td>\n",
              "      <td>2017-10-05 00:00:00</td>\n",
              "      <td>6.000000</td>\n",
              "    </tr>\n",
              "    <tr>\n",
              "      <th>50%</th>\n",
              "      <td>NaN</td>\n",
              "      <td>NaN</td>\n",
              "      <td>NaN</td>\n",
              "      <td>2018-01-20 19:59:42</td>\n",
              "      <td>2018-01-22 13:49:00</td>\n",
              "      <td>2018-01-24 16:19:03</td>\n",
              "      <td>2018-02-02 19:50:56</td>\n",
              "      <td>2018-02-16 00:00:00</td>\n",
              "      <td>10.000000</td>\n",
              "    </tr>\n",
              "    <tr>\n",
              "      <th>75%</th>\n",
              "      <td>NaN</td>\n",
              "      <td>NaN</td>\n",
              "      <td>NaN</td>\n",
              "      <td>2018-05-05 18:33:24</td>\n",
              "      <td>2018-05-06 10:30:49</td>\n",
              "      <td>2018-05-08 14:33:00</td>\n",
              "      <td>2018-05-15 23:08:54</td>\n",
              "      <td>2018-05-28 00:00:00</td>\n",
              "      <td>15.000000</td>\n",
              "    </tr>\n",
              "    <tr>\n",
              "      <th>max</th>\n",
              "      <td>NaN</td>\n",
              "      <td>NaN</td>\n",
              "      <td>NaN</td>\n",
              "      <td>2018-08-29 15:00:37</td>\n",
              "      <td>2018-08-29 15:10:26</td>\n",
              "      <td>2018-09-11 19:48:28</td>\n",
              "      <td>2018-10-17 13:22:46</td>\n",
              "      <td>2018-10-25 00:00:00</td>\n",
              "      <td>209.000000</td>\n",
              "    </tr>\n",
              "    <tr>\n",
              "      <th>std</th>\n",
              "      <td>NaN</td>\n",
              "      <td>NaN</td>\n",
              "      <td>NaN</td>\n",
              "      <td>NaN</td>\n",
              "      <td>NaN</td>\n",
              "      <td>NaN</td>\n",
              "      <td>NaN</td>\n",
              "      <td>NaN</td>\n",
              "      <td>9.551576</td>\n",
              "    </tr>\n",
              "  </tbody>\n",
              "</table>\n",
              "</div>"
            ],
            "text/plain": [
              "                                order_id                       customer_id  \\\n",
              "count                              96461                             96461   \n",
              "unique                             96461                             96461   \n",
              "top     e481f51cbdc54678b7cc49136f2d6af7  9ef432eb6251297304e76186b10a928d   \n",
              "freq                                   1                                 1   \n",
              "mean                                 NaN                               NaN   \n",
              "min                                  NaN                               NaN   \n",
              "25%                                  NaN                               NaN   \n",
              "50%                                  NaN                               NaN   \n",
              "75%                                  NaN                               NaN   \n",
              "max                                  NaN                               NaN   \n",
              "std                                  NaN                               NaN   \n",
              "\n",
              "       order_status       order_purchase_timestamp  \\\n",
              "count         96461                          96461   \n",
              "unique            2                            NaN   \n",
              "top       delivered                            NaN   \n",
              "freq          96455                            NaN   \n",
              "mean            NaN  2018-01-01 23:53:26.642249216   \n",
              "min             NaN            2016-09-15 12:16:38   \n",
              "25%             NaN            2017-09-14 09:28:28   \n",
              "50%             NaN            2018-01-20 19:59:42   \n",
              "75%             NaN            2018-05-05 18:33:24   \n",
              "max             NaN            2018-08-29 15:00:37   \n",
              "std             NaN                            NaN   \n",
              "\n",
              "                    order_approved_at   order_delivered_carrier_date  \\\n",
              "count                           96461                          96461   \n",
              "unique                            NaN                            NaN   \n",
              "top                               NaN                            NaN   \n",
              "freq                              NaN                            NaN   \n",
              "mean    2018-01-02 10:10:06.480142336  2018-01-05 05:21:04.508827392   \n",
              "min               2016-09-15 12:16:38            2016-10-08 10:34:01   \n",
              "25%               2017-09-14 14:30:14            2017-09-18 16:52:19   \n",
              "50%               2018-01-22 13:49:00            2018-01-24 16:19:03   \n",
              "75%               2018-05-06 10:30:49            2018-05-08 14:33:00   \n",
              "max               2018-08-29 15:10:26            2018-09-11 19:48:28   \n",
              "std                               NaN                            NaN   \n",
              "\n",
              "        order_delivered_customer_date  order_estimated_delivery_date  \\\n",
              "count                           96461                          96461   \n",
              "unique                            NaN                            NaN   \n",
              "top                               NaN                            NaN   \n",
              "freq                              NaN                            NaN   \n",
              "mean    2018-01-14 13:17:13.228102400  2018-01-25 17:33:14.236012544   \n",
              "min               2016-10-11 13:46:32            2016-10-04 00:00:00   \n",
              "25%               2017-09-25 22:31:59            2017-10-05 00:00:00   \n",
              "50%               2018-02-02 19:50:56            2018-02-16 00:00:00   \n",
              "75%               2018-05-15 23:08:54            2018-05-28 00:00:00   \n",
              "max               2018-10-17 13:22:46            2018-10-25 00:00:00   \n",
              "std                               NaN                            NaN   \n",
              "\n",
              "        delivery_duration  \n",
              "count        96461.000000  \n",
              "unique                NaN  \n",
              "top                   NaN  \n",
              "freq                  NaN  \n",
              "mean            12.093582  \n",
              "min              0.000000  \n",
              "25%              6.000000  \n",
              "50%             10.000000  \n",
              "75%             15.000000  \n",
              "max            209.000000  \n",
              "std              9.551576  "
            ]
          },
          "execution_count": 35,
          "metadata": {},
          "output_type": "execute_result"
        }
      ],
      "source": [
        "orders_df_clean = orders_df.copy()\n",
        "orders_df_clean.describe(include=\"all\")"
      ]
    },
    {
      "cell_type": "markdown",
      "metadata": {
        "id": "th_Lzl2Fkj9O"
      },
      "source": [
        "**Insight:**\n",
        "- Dari proses perhitungan waktu pengiriman dalam hari untuk setiap order_id didapatkan bahwa minimum pengiriman 0 hari (kemungkinan dikirim dihari yang sama) dan maksimum 209 hari (kemungkinan lokasi sangat jauh) dengan rata-rata waktu pengiriman sebesar 12 hari.\n",
        "- Nantinya kita akan melihat bagaimana hubungan waktu pengiriman dengan hasil review score dari para pelanggan."
      ]
    },
    {
      "cell_type": "markdown",
      "metadata": {
        "id": "bjOrphFuxeQu"
      },
      "source": [
        "### Explore data reviews_df"
      ]
    },
    {
      "cell_type": "code",
      "execution_count": 36,
      "metadata": {
        "colab": {
          "base_uri": "https://localhost:8080/",
          "height": 272
        },
        "id": "flqSR0uH0cht",
        "outputId": "c2fca664-9947-4d96-98a2-da644311c3e8"
      },
      "outputs": [
        {
          "data": {
            "text/plain": [
              "review_score\n",
              "5    57328\n",
              "4    19142\n",
              "1    11424\n",
              "3     8179\n",
              "2     3151\n",
              "Name: count, dtype: int64"
            ]
          },
          "execution_count": 36,
          "metadata": {},
          "output_type": "execute_result"
        }
      ],
      "source": [
        "reviews_df[\"review_score\"].value_counts()"
      ]
    },
    {
      "cell_type": "code",
      "execution_count": 37,
      "metadata": {
        "colab": {
          "base_uri": "https://localhost:8080/",
          "height": 424
        },
        "id": "nPM7Mkg204b-",
        "outputId": "ce751670-2e83-43f5-c0b3-ea15e1a3b0e8"
      },
      "outputs": [
        {
          "data": {
            "text/html": [
              "<div>\n",
              "<style scoped>\n",
              "    .dataframe tbody tr th:only-of-type {\n",
              "        vertical-align: middle;\n",
              "    }\n",
              "\n",
              "    .dataframe tbody tr th {\n",
              "        vertical-align: top;\n",
              "    }\n",
              "\n",
              "    .dataframe thead th {\n",
              "        text-align: right;\n",
              "    }\n",
              "</style>\n",
              "<table border=\"1\" class=\"dataframe\">\n",
              "  <thead>\n",
              "    <tr style=\"text-align: right;\">\n",
              "      <th></th>\n",
              "      <th>review_id</th>\n",
              "      <th>order_id</th>\n",
              "      <th>review_score</th>\n",
              "      <th>review_creation_date</th>\n",
              "      <th>review_answer_timestamp</th>\n",
              "    </tr>\n",
              "  </thead>\n",
              "  <tbody>\n",
              "    <tr>\n",
              "      <th>81664</th>\n",
              "      <td>d79d9c6ac6f454d1eff978ce1c0042f3</td>\n",
              "      <td>067546963d2dc6275eb550df0482c460</td>\n",
              "      <td>5</td>\n",
              "      <td>2018-03-02 00:00:00</td>\n",
              "      <td>2018-03-03 01:47:34</td>\n",
              "    </tr>\n",
              "    <tr>\n",
              "      <th>41507</th>\n",
              "      <td>2f307de2f202f80e40bb3e333acacdc5</td>\n",
              "      <td>b3a0eb2ed8d1c40cb723235fc937b654</td>\n",
              "      <td>5</td>\n",
              "      <td>2018-04-24 00:00:00</td>\n",
              "      <td>2018-04-25 06:43:14</td>\n",
              "    </tr>\n",
              "    <tr>\n",
              "      <th>41493</th>\n",
              "      <td>2aae6aa6dd84780f8af3d7c6bceca0b3</td>\n",
              "      <td>0997090fe6882d45c6a71660aaffaba2</td>\n",
              "      <td>5</td>\n",
              "      <td>2018-03-13 00:00:00</td>\n",
              "      <td>2018-03-13 19:38:15</td>\n",
              "    </tr>\n",
              "    <tr>\n",
              "      <th>76470</th>\n",
              "      <td>c5c3e1db9a9b68b9c5491119316298b6</td>\n",
              "      <td>bd9c7d72943c5118f03bb7524043e0fd</td>\n",
              "      <td>5</td>\n",
              "      <td>2018-08-30 00:00:00</td>\n",
              "      <td>2018-08-30 22:27:11</td>\n",
              "    </tr>\n",
              "    <tr>\n",
              "      <th>41496</th>\n",
              "      <td>d90bcfae67fa691807ba9777005fc1f3</td>\n",
              "      <td>a34caabc66a97d7d5228c0c98789ea62</td>\n",
              "      <td>5</td>\n",
              "      <td>2018-01-12 00:00:00</td>\n",
              "      <td>2018-01-12 22:22:03</td>\n",
              "    </tr>\n",
              "    <tr>\n",
              "      <th>...</th>\n",
              "      <td>...</td>\n",
              "      <td>...</td>\n",
              "      <td>...</td>\n",
              "      <td>...</td>\n",
              "      <td>...</td>\n",
              "    </tr>\n",
              "    <tr>\n",
              "      <th>88349</th>\n",
              "      <td>ceb0ed8e3dbbea01d9b79a531140f9f0</td>\n",
              "      <td>3162e7a4bd72ecb02f89eba7df43673e</td>\n",
              "      <td>1</td>\n",
              "      <td>2018-05-06 00:00:00</td>\n",
              "      <td>2018-05-11 18:41:46</td>\n",
              "    </tr>\n",
              "    <tr>\n",
              "      <th>73809</th>\n",
              "      <td>0a17a80d17d08afa96fcf81a39c32c62</td>\n",
              "      <td>5541bd42a3108b24d82380b08016016c</td>\n",
              "      <td>1</td>\n",
              "      <td>2018-02-22 00:00:00</td>\n",
              "      <td>2018-02-22 20:57:49</td>\n",
              "    </tr>\n",
              "    <tr>\n",
              "      <th>88351</th>\n",
              "      <td>5aff478bcf049564022294737e8890c0</td>\n",
              "      <td>562f45bf4a946810053214c29d752e85</td>\n",
              "      <td>1</td>\n",
              "      <td>2018-04-26 00:00:00</td>\n",
              "      <td>2018-04-26 23:37:34</td>\n",
              "    </tr>\n",
              "    <tr>\n",
              "      <th>46329</th>\n",
              "      <td>459ca96310cf869cc4b8e4705f756256</td>\n",
              "      <td>67b0f3d0a405fc007841f73f2792323b</td>\n",
              "      <td>1</td>\n",
              "      <td>2018-08-09 00:00:00</td>\n",
              "      <td>2018-08-11 10:20:37</td>\n",
              "    </tr>\n",
              "    <tr>\n",
              "      <th>99223</th>\n",
              "      <td>efe49f1d6f951dd88b51e6ccd4cc548f</td>\n",
              "      <td>90531360ecb1eec2a1fbb265a0db0508</td>\n",
              "      <td>1</td>\n",
              "      <td>2017-07-03 00:00:00</td>\n",
              "      <td>2017-07-03 21:01:49</td>\n",
              "    </tr>\n",
              "  </tbody>\n",
              "</table>\n",
              "<p>99224 rows × 5 columns</p>\n",
              "</div>"
            ],
            "text/plain": [
              "                              review_id                          order_id  \\\n",
              "81664  d79d9c6ac6f454d1eff978ce1c0042f3  067546963d2dc6275eb550df0482c460   \n",
              "41507  2f307de2f202f80e40bb3e333acacdc5  b3a0eb2ed8d1c40cb723235fc937b654   \n",
              "41493  2aae6aa6dd84780f8af3d7c6bceca0b3  0997090fe6882d45c6a71660aaffaba2   \n",
              "76470  c5c3e1db9a9b68b9c5491119316298b6  bd9c7d72943c5118f03bb7524043e0fd   \n",
              "41496  d90bcfae67fa691807ba9777005fc1f3  a34caabc66a97d7d5228c0c98789ea62   \n",
              "...                                 ...                               ...   \n",
              "88349  ceb0ed8e3dbbea01d9b79a531140f9f0  3162e7a4bd72ecb02f89eba7df43673e   \n",
              "73809  0a17a80d17d08afa96fcf81a39c32c62  5541bd42a3108b24d82380b08016016c   \n",
              "88351  5aff478bcf049564022294737e8890c0  562f45bf4a946810053214c29d752e85   \n",
              "46329  459ca96310cf869cc4b8e4705f756256  67b0f3d0a405fc007841f73f2792323b   \n",
              "99223  efe49f1d6f951dd88b51e6ccd4cc548f  90531360ecb1eec2a1fbb265a0db0508   \n",
              "\n",
              "       review_score review_creation_date review_answer_timestamp  \n",
              "81664             5  2018-03-02 00:00:00     2018-03-03 01:47:34  \n",
              "41507             5  2018-04-24 00:00:00     2018-04-25 06:43:14  \n",
              "41493             5  2018-03-13 00:00:00     2018-03-13 19:38:15  \n",
              "76470             5  2018-08-30 00:00:00     2018-08-30 22:27:11  \n",
              "41496             5  2018-01-12 00:00:00     2018-01-12 22:22:03  \n",
              "...             ...                  ...                     ...  \n",
              "88349             1  2018-05-06 00:00:00     2018-05-11 18:41:46  \n",
              "73809             1  2018-02-22 00:00:00     2018-02-22 20:57:49  \n",
              "88351             1  2018-04-26 00:00:00     2018-04-26 23:37:34  \n",
              "46329             1  2018-08-09 00:00:00     2018-08-11 10:20:37  \n",
              "99223             1  2017-07-03 00:00:00     2017-07-03 21:01:49  \n",
              "\n",
              "[99224 rows x 5 columns]"
            ]
          },
          "execution_count": 37,
          "metadata": {},
          "output_type": "execute_result"
        }
      ],
      "source": [
        "reviews_df.sort_values(by='review_score', ascending=False)"
      ]
    },
    {
      "cell_type": "markdown",
      "metadata": {
        "id": "RmXseNmt1pCP"
      },
      "source": [
        "Insight:\n",
        "- review score 5 memiliki sebanyak 57328 data.\n",
        "- review score 4 memiliki sebanyak 19142 data.\n",
        "- review score 1 memiliki sebanyak 11424 data.\n",
        "- review score 3 memiliki sebanyak 8179 data.\n",
        "- review score 2 memiliki sebanyak 3151 data.\n",
        "\n",
        "Terlihat bahwa sebanyak 22,93% masih tergolong bad reviews yaitu score 1, 2, dan 3. Namun, good reviews memiliki nilai yang lebih tinggi yaitu 77,06% dari score 4 dan 5."
      ]
    },
    {
      "cell_type": "markdown",
      "metadata": {
        "id": "EJUoMQTC1k_Q"
      },
      "source": [
        "### Explore data customers_df"
      ]
    },
    {
      "cell_type": "code",
      "execution_count": 38,
      "metadata": {
        "colab": {
          "base_uri": "https://localhost:8080/",
          "height": 962
        },
        "id": "bNrMLxWg6EpX",
        "outputId": "f0d56e5d-6df3-4905-b0a1-4d0bc9df4aab"
      },
      "outputs": [
        {
          "data": {
            "text/plain": [
              "customer_state\n",
              "SP    41746\n",
              "RJ    12852\n",
              "MG    11635\n",
              "RS     5466\n",
              "PR     5045\n",
              "SC     3637\n",
              "BA     3380\n",
              "DF     2140\n",
              "ES     2033\n",
              "GO     2020\n",
              "PE     1652\n",
              "CE     1336\n",
              "PA      975\n",
              "MT      907\n",
              "MA      747\n",
              "MS      715\n",
              "PB      536\n",
              "PI      495\n",
              "RN      485\n",
              "AL      413\n",
              "SE      350\n",
              "TO      280\n",
              "RO      253\n",
              "AM      148\n",
              "AC       81\n",
              "AP       68\n",
              "RR       46\n",
              "Name: count, dtype: int64"
            ]
          },
          "execution_count": 38,
          "metadata": {},
          "output_type": "execute_result"
        }
      ],
      "source": [
        "customers_df[\"customer_state\"].value_counts()"
      ]
    },
    {
      "cell_type": "markdown",
      "metadata": {
        "id": "UnN_iJZ0_SHC"
      },
      "source": [
        "Insight:\n",
        "- Dari hasil diatas terlihat bahwa top-5 state sebagai penyumbang pelanggan tertinggi yaitu SP memiliki 41746 pelanggan, RJ\tmemiliki 12852 pelanggan, MG memiliki 11635 pelanggan, RS\tmemiliki 5466 pelanggan, dan PR\tmemiliki 5045 pelanggan.\n",
        "- Selain itu, pelanggan pun berasal dari berbagai state lainnya."
      ]
    },
    {
      "cell_type": "markdown",
      "metadata": {
        "id": "ZtXBJir6ABHa"
      },
      "source": [
        "### Exploratory data payments_df"
      ]
    },
    {
      "cell_type": "code",
      "execution_count": 39,
      "metadata": {
        "colab": {
          "base_uri": "https://localhost:8080/",
          "height": 241
        },
        "id": "1akwLcZCAQ9i",
        "outputId": "b8ffc85b-b34a-4ac3-db79-4f4c159c55ac"
      },
      "outputs": [
        {
          "data": {
            "text/plain": [
              "payment_type\n",
              "credit_card    76793\n",
              "boleto         19784\n",
              "voucher         5769\n",
              "debit_card      1529\n",
              "Name: count, dtype: int64"
            ]
          },
          "execution_count": 39,
          "metadata": {},
          "output_type": "execute_result"
        }
      ],
      "source": [
        "payments_df[\"payment_type\"].value_counts()"
      ]
    },
    {
      "cell_type": "code",
      "execution_count": 40,
      "metadata": {
        "colab": {
          "base_uri": "https://localhost:8080/"
        },
        "id": "8MqGRE_jtdSK",
        "outputId": "9761a2e6-423e-44ec-ebb9-a7f6ecfa470e"
      },
      "outputs": [
        {
          "name": "stdout",
          "output_type": "stream",
          "text": [
            "Nilai pembayaran tertinggi untuk credit card adalah: 13664.08\n"
          ]
        }
      ],
      "source": [
        "# Filter pembayaran menggunakan credit card\n",
        "credit_card_payments = payments_df[payments_df['payment_type'] == 'credit_card']\n",
        "\n",
        "# Mengecek pembayaran tertinggi menggunakan credit card\n",
        "highest_credit_card_payment = credit_card_payments['payment_value'].max()\n",
        "\n",
        "print(f\"Nilai pembayaran tertinggi untuk credit card adalah: {highest_credit_card_payment}\")"
      ]
    },
    {
      "cell_type": "markdown",
      "metadata": {
        "id": "5IWR287oAnN5"
      },
      "source": [
        "Insight:\n",
        "- Dari hasi diatas terlihat bahwa payment_type yang digunakan pengguna paling tinggi yaitu credit card sebanyak 76793, boleto sebanyak 19784, voucher sebanyak 5769, dan debit_card 1529.\n",
        "- Selain itu, payment_value paling tinggi yang menggunakan credit card ialah 13664.08.\n"
      ]
    },
    {
      "cell_type": "markdown",
      "metadata": {
        "id": "zsyZjqak8DC2"
      },
      "source": [
        "## Visualization & Explanatory Analysis"
      ]
    },
    {
      "cell_type": "markdown",
      "metadata": {
        "id": "HZxOiQ6n8DC2"
      },
      "source": [
        "### Pertanyaan 1: Bagaimana hubungan antara waktu pengiriman dengan review score yang diberikan pelanggan?"
      ]
    },
    {
      "cell_type": "code",
      "execution_count": 41,
      "metadata": {
        "id": "1swJUdAD8DC2"
      },
      "outputs": [],
      "source": [
        "# gabungkan data\n",
        "orders_reviews_df = pd.merge(orders_df_clean, reviews_df, on='order_id')"
      ]
    },
    {
      "cell_type": "code",
      "execution_count": 42,
      "metadata": {
        "id": "bQ_coFAHvmaD"
      },
      "outputs": [],
      "source": [
        "# Hitung rata-rata review_score untuk setiap delivery_duration\n",
        "avg_review_by_duration = orders_reviews_df.groupby('delivery_duration')['review_score'].mean().reset_index()"
      ]
    },
    {
      "cell_type": "code",
      "execution_count": 43,
      "metadata": {
        "colab": {
          "base_uri": "https://localhost:8080/",
          "height": 564
        },
        "id": "GyTtLlkZwjx9",
        "outputId": "8fb7e562-305b-4a6c-e33d-a2b666e1d748"
      },
      "outputs": [
        {
          "data": {
            "image/png": "[encoded data removed]",
            "text/plain": [
              "<Figure size 720x432 with 1 Axes>"
            ]
          },
          "metadata": {
            "needs_background": "light"
          },
          "output_type": "display_data"
        }
      ],
      "source": [
        "# visualisasi\n",
        "plt.figure(figsize=(10, 6))\n",
        "sns.scatterplot(data=avg_review_by_duration, x='delivery_duration', y='review_score')\n",
        "plt.xlabel('Lama Pengiriman (hari)')\n",
        "plt.ylabel('Rata-rata Review Score')\n",
        "plt.title('Hubungan Lama Pengiriman dengan Rata-rata Review Score')\n",
        "plt.show()"
      ]
    },
    {
      "cell_type": "markdown",
      "metadata": {
        "id": "GZ_B0M_6wxPV"
      },
      "source": [
        "**Insight:**\n",
        "- Dari hasil diatas, dapat dilihat bahwa review score yang diberikan pelanggan cukup bervariasi. Di waktu pengiriman dari 0-50 hari mengalami penurunan, dimana bisa jadi ini karena adanya keterlambatan pengiriman. Namun, untuk review score paling tinggi yaitu 5, justru memiliki waktu pengiriman yang lebih dari 50 hari, dimana ini bisa jadi pelanggan berada dilokasi jauh dan product sampai dengan aman tanpa kerusakan.\n",
        "- Secara keseluruhan, hasil ini menunjukkan nilai yang negatif dimana banyak pelanggan lebih puas jika pengiriman bisa dilakukan secara cepat."
      ]
    },
    {
      "cell_type": "markdown",
      "metadata": {
        "id": "DgHI7CiU8DC2"
      },
      "source": [
        "### Pertanyaan 2: Berasal dari state manakah pelanggan dan revenue terbanyak?"
      ]
    },
    {
      "cell_type": "code",
      "execution_count": 44,
      "metadata": {
        "id": "8_nQGXAn1m0e"
      },
      "outputs": [],
      "source": [
        "# menggabungkan data orders dan payments by order_id\n",
        "orders_payments_df = pd.merge(orders_df_clean, payments_df, on='order_id')"
      ]
    },
    {
      "cell_type": "code",
      "execution_count": 45,
      "metadata": {
        "id": "luBgl1uG58rX"
      },
      "outputs": [],
      "source": [
        "# menggabungkan customers dan orders_payments by customer_id\n",
        "customers_orders_payments_df = pd.merge(orders_payments_df, customers_df, on='customer_id')"
      ]
    },
    {
      "cell_type": "code",
      "execution_count": 46,
      "metadata": {
        "colab": {
          "base_uri": "https://localhost:8080/",
          "height": 728
        },
        "id": "DBWwdA6XCJpe",
        "outputId": "c3e1b1b5-b334-48eb-a8e9-eb99b922ddab"
      },
      "outputs": [
        {
          "name": "stderr",
          "output_type": "stream",
          "text": [
            "C:\\Users\\finan\\AppData\\Local\\Temp\\ipykernel_10908\\1435676086.py:9: FutureWarning: \n",
            "\n",
            "Passing `palette` without assigning `hue` is deprecated and will be removed in v0.14.0. Assign the `y` variable to `hue` and set `legend=False` for the same effect.\n",
            "\n",
            "  sns.barplot(data=top_cities_customers, x='customer_unique_id', y='customer_state', palette='viridis')\n"
          ]
        },
        {
          "data": {
            "image/png": "[encoded data removed]",
            "text/plain": [
              "<Figure size 864x504 with 1 Axes>"
            ]
          },
          "metadata": {
            "needs_background": "light"
          },
          "output_type": "display_data"
        }
      ],
      "source": [
        "# Hitung jumlah pelanggan unik per kota\n",
        "city_customer_counts = customers_orders_payments_df.groupby('customer_state')['customer_unique_id'].nunique().reset_index()\n",
        "\n",
        "# Urutkan berdasarkan jumlah pelanggan dan tampilkan top 5 kota\n",
        "top_cities_customers = city_customer_counts.sort_values(by='customer_unique_id', ascending=False).head(5)\n",
        "\n",
        "# Visualisasikan jumlah pelanggan per kota\n",
        "plt.figure(figsize=(12, 7))\n",
        "sns.barplot(data=top_cities_customers, x='customer_unique_id', y='customer_state', palette='viridis')\n",
        "plt.title('Jumlah Pelanggan Unik per Customer State (Top 5)')\n",
        "plt.xlabel('Jumlah Pelanggan Unik')\n",
        "plt.ylabel('Customer State')\n",
        "plt.show()"
      ]
    },
    {
      "cell_type": "code",
      "execution_count": 47,
      "metadata": {
        "colab": {
          "base_uri": "https://localhost:8080/",
          "height": 728
        },
        "id": "BCwNL7dZ9SHA",
        "outputId": "3a27ca78-5858-4ed0-beba-290d3a4f7a32"
      },
      "outputs": [
        {
          "name": "stderr",
          "output_type": "stream",
          "text": [
            "C:\\Users\\finan\\AppData\\Local\\Temp\\ipykernel_10908\\4074695185.py:9: FutureWarning: \n",
            "\n",
            "Passing `palette` without assigning `hue` is deprecated and will be removed in v0.14.0. Assign the `y` variable to `hue` and set `legend=False` for the same effect.\n",
            "\n",
            "  sns.barplot(data=top_cities_revenue, x='payment_value', y='customer_state', palette='viridis')\n"
          ]
        },
        {
          "data": {
            "image/png": "[encoded data removed]",
            "text/plain": [
              "<Figure size 864x504 with 1 Axes>"
            ]
          },
          "metadata": {
            "needs_background": "light"
          },
          "output_type": "display_data"
        }
      ],
      "source": [
        "# Hitung total nilai pembelian untuk setiap kota\n",
        "city_revenue = customers_orders_payments_df.groupby('customer_state')['payment_value'].sum().reset_index()\n",
        "\n",
        "# Urutkan berdasarkan total revenue dan tampilkan top-5 kota\n",
        "top_cities_revenue = city_revenue.sort_values(by='payment_value', ascending=False).head(5)\n",
        "\n",
        "# Visualisasikan total revenue per kota\n",
        "plt.figure(figsize=(12, 7))\n",
        "sns.barplot(data=top_cities_revenue, x='payment_value', y='customer_state', palette='viridis')\n",
        "plt.title('Total Revenue per Customer State (Top 5)')\n",
        "plt.xlabel('Total Revenue')\n",
        "plt.ylabel('Customer State')\n",
        "plt.show()"
      ]
    },
    {
      "cell_type": "markdown",
      "metadata": {
        "id": "_0-36BDLklRg"
      },
      "source": [
        "**Insight:**\n",
        "- Dari hasil diatas menunjukkan 5 state yang memiliki pelanggan dan revenue terbanyak yaitu SP, RJ, MG, RS, dan PR."
      ]
    },
    {
      "cell_type": "markdown",
      "metadata": {
        "id": "jrU19w_6EoWc"
      },
      "source": [
        "### Pertanyaan 3: Metode pembayaran mana yang paling sering digunakan dan paling banyak menghasilkan revenue?"
      ]
    },
    {
      "cell_type": "code",
      "execution_count": 48,
      "metadata": {
        "id": "XfLkH9NFE24k"
      },
      "outputs": [],
      "source": [
        "# Hitung jumlah penggunaan untuk setiap payment_type\n",
        "payment_type_counts = payments_df['payment_type'].value_counts().reset_index()\n",
        "payment_type_counts.columns = ['payment_type', 'count']\n",
        "\n",
        "# Hitung total payment_value untuk setiap payment_type\n",
        "payment_type_revenue = payments_df.groupby('payment_type')['payment_value'].sum().reset_index()\n",
        "payment_type_revenue.columns = ['payment_type', 'total_revenue']"
      ]
    },
    {
      "cell_type": "code",
      "execution_count": 49,
      "metadata": {
        "colab": {
          "base_uri": "https://localhost:8080/",
          "height": 507
        },
        "id": "kQGKTsg4EvNe",
        "outputId": "47b48390-342a-4aad-b447-ea81615873f2"
      },
      "outputs": [
        {
          "data": {
            "image/png": "[encoded data removed]",
            "text/plain": [
              "<Figure size 864x360 with 2 Axes>"
            ]
          },
          "metadata": {
            "needs_background": "light"
          },
          "output_type": "display_data"
        }
      ],
      "source": [
        "# visualisasi jumlah penggunaan setiap metode pembayaran\n",
        "plt.figure(figsize=(12, 5))\n",
        "\n",
        "plt.subplot(1, 2, 1)\n",
        "sns.barplot(data=payment_type_counts, x='payment_type', y='count')\n",
        "plt.title('Jumlah Penggunaan Metode Pembayaran')\n",
        "plt.xlabel('Metode Pembayaran')\n",
        "plt.ylabel('Jumlah Penggunaan')\n",
        "plt.xticks(rotation=45)\n",
        "\n",
        "plt.subplot(1, 2, 2)\n",
        "sns.barplot(data=payment_type_revenue, x='payment_type', y='total_revenue')\n",
        "plt.title('Total Revenue per Metode Pembayaran')\n",
        "plt.xlabel('Metode Pembayaran')\n",
        "plt.ylabel('Total Revenue')\n",
        "plt.xticks(rotation=45)\n",
        "\n",
        "plt.tight_layout()\n",
        "plt.show()"
      ]
    },
    {
      "cell_type": "markdown",
      "metadata": {
        "id": "vQdMrWTUFpNe"
      },
      "source": [
        "Insight:\n",
        "- Dari hasil diatas terlihat bahwa jumlah penggunaan payment type dan total revenue yang paling banyak ialah credit card."
      ]
    },
    {
      "cell_type": "markdown",
      "metadata": {
        "id": "9y4VUsmcYNZ5"
      },
      "source": [
        "## Analisis Lanjutan (Opsional)"
      ]
    },
    {
      "cell_type": "markdown",
      "metadata": {
        "id": "_W4YFrAXG3J0"
      },
      "source": [
        "### Pertanyaan 4: Bagaimana segmentasi pelanggan berdasarkan frekuensi dan total nilai pembelian mereka?\n",
        "\n",
        "### RFM Analysis"
      ]
    },
    {
      "cell_type": "code",
      "execution_count": 50,
      "metadata": {
        "id": "iWhnzsJGYUCO"
      },
      "outputs": [],
      "source": [
        "all_df = pd.merge(orders_df_clean, reviews_df, on='order_id')\n",
        "all_df = pd.merge(all_df, payments_df, on='order_id')\n",
        "all_df = pd.merge(all_df, customers_df, on='customer_id')"
      ]
    },
    {
      "cell_type": "code",
      "execution_count": 51,
      "metadata": {
        "colab": {
          "base_uri": "https://localhost:8080/",
          "height": 256
        },
        "id": "paJ1U_t1HHPA",
        "outputId": "9a5ebf91-8103-4098-ce75-3766369a71ea"
      },
      "outputs": [
        {
          "data": {
            "text/html": [
              "<div>\n",
              "<style scoped>\n",
              "    .dataframe tbody tr th:only-of-type {\n",
              "        vertical-align: middle;\n",
              "    }\n",
              "\n",
              "    .dataframe tbody tr th {\n",
              "        vertical-align: top;\n",
              "    }\n",
              "\n",
              "    .dataframe thead th {\n",
              "        text-align: right;\n",
              "    }\n",
              "</style>\n",
              "<table border=\"1\" class=\"dataframe\">\n",
              "  <thead>\n",
              "    <tr style=\"text-align: right;\">\n",
              "      <th></th>\n",
              "      <th>order_id</th>\n",
              "      <th>customer_id</th>\n",
              "      <th>order_status</th>\n",
              "      <th>order_purchase_timestamp</th>\n",
              "      <th>order_approved_at</th>\n",
              "      <th>order_delivered_carrier_date</th>\n",
              "      <th>order_delivered_customer_date</th>\n",
              "      <th>order_estimated_delivery_date</th>\n",
              "      <th>delivery_duration</th>\n",
              "      <th>review_id</th>\n",
              "      <th>...</th>\n",
              "      <th>review_creation_date</th>\n",
              "      <th>review_answer_timestamp</th>\n",
              "      <th>payment_sequential</th>\n",
              "      <th>payment_type</th>\n",
              "      <th>payment_installments</th>\n",
              "      <th>payment_value</th>\n",
              "      <th>customer_unique_id</th>\n",
              "      <th>customer_zip_code_prefix</th>\n",
              "      <th>customer_city</th>\n",
              "      <th>customer_state</th>\n",
              "    </tr>\n",
              "  </thead>\n",
              "  <tbody>\n",
              "    <tr>\n",
              "      <th>0</th>\n",
              "      <td>e481f51cbdc54678b7cc49136f2d6af7</td>\n",
              "      <td>9ef432eb6251297304e76186b10a928d</td>\n",
              "      <td>delivered</td>\n",
              "      <td>2017-10-02 10:56:33</td>\n",
              "      <td>2017-10-02 11:07:15</td>\n",
              "      <td>2017-10-04 19:55:00</td>\n",
              "      <td>2017-10-10 21:25:13</td>\n",
              "      <td>2017-10-18</td>\n",
              "      <td>8</td>\n",
              "      <td>a54f0611adc9ed256b57ede6b6eb5114</td>\n",
              "      <td>...</td>\n",
              "      <td>2017-10-11 00:00:00</td>\n",
              "      <td>2017-10-12 03:43:48</td>\n",
              "      <td>1</td>\n",
              "      <td>credit_card</td>\n",
              "      <td>1</td>\n",
              "      <td>18.12</td>\n",
              "      <td>7c396fd4830fd04220f754e42b4e5bff</td>\n",
              "      <td>3149</td>\n",
              "      <td>sao paulo</td>\n",
              "      <td>SP</td>\n",
              "    </tr>\n",
              "    <tr>\n",
              "      <th>1</th>\n",
              "      <td>e481f51cbdc54678b7cc49136f2d6af7</td>\n",
              "      <td>9ef432eb6251297304e76186b10a928d</td>\n",
              "      <td>delivered</td>\n",
              "      <td>2017-10-02 10:56:33</td>\n",
              "      <td>2017-10-02 11:07:15</td>\n",
              "      <td>2017-10-04 19:55:00</td>\n",
              "      <td>2017-10-10 21:25:13</td>\n",
              "      <td>2017-10-18</td>\n",
              "      <td>8</td>\n",
              "      <td>a54f0611adc9ed256b57ede6b6eb5114</td>\n",
              "      <td>...</td>\n",
              "      <td>2017-10-11 00:00:00</td>\n",
              "      <td>2017-10-12 03:43:48</td>\n",
              "      <td>3</td>\n",
              "      <td>voucher</td>\n",
              "      <td>1</td>\n",
              "      <td>2.00</td>\n",
              "      <td>7c396fd4830fd04220f754e42b4e5bff</td>\n",
              "      <td>3149</td>\n",
              "      <td>sao paulo</td>\n",
              "      <td>SP</td>\n",
              "    </tr>\n",
              "    <tr>\n",
              "      <th>2</th>\n",
              "      <td>e481f51cbdc54678b7cc49136f2d6af7</td>\n",
              "      <td>9ef432eb6251297304e76186b10a928d</td>\n",
              "      <td>delivered</td>\n",
              "      <td>2017-10-02 10:56:33</td>\n",
              "      <td>2017-10-02 11:07:15</td>\n",
              "      <td>2017-10-04 19:55:00</td>\n",
              "      <td>2017-10-10 21:25:13</td>\n",
              "      <td>2017-10-18</td>\n",
              "      <td>8</td>\n",
              "      <td>a54f0611adc9ed256b57ede6b6eb5114</td>\n",
              "      <td>...</td>\n",
              "      <td>2017-10-11 00:00:00</td>\n",
              "      <td>2017-10-12 03:43:48</td>\n",
              "      <td>2</td>\n",
              "      <td>voucher</td>\n",
              "      <td>1</td>\n",
              "      <td>18.59</td>\n",
              "      <td>7c396fd4830fd04220f754e42b4e5bff</td>\n",
              "      <td>3149</td>\n",
              "      <td>sao paulo</td>\n",
              "      <td>SP</td>\n",
              "    </tr>\n",
              "    <tr>\n",
              "      <th>3</th>\n",
              "      <td>53cdb2fc8bc7dce0b6741e2150273451</td>\n",
              "      <td>b0830fb4747a6c6d20dea0b8c802d7ef</td>\n",
              "      <td>delivered</td>\n",
              "      <td>2018-07-24 20:41:37</td>\n",
              "      <td>2018-07-26 03:24:27</td>\n",
              "      <td>2018-07-26 14:31:00</td>\n",
              "      <td>2018-08-07 15:27:45</td>\n",
              "      <td>2018-08-13</td>\n",
              "      <td>13</td>\n",
              "      <td>8d5266042046a06655c8db133d120ba5</td>\n",
              "      <td>...</td>\n",
              "      <td>2018-08-08 00:00:00</td>\n",
              "      <td>2018-08-08 18:37:50</td>\n",
              "      <td>1</td>\n",
              "      <td>boleto</td>\n",
              "      <td>1</td>\n",
              "      <td>141.46</td>\n",
              "      <td>af07308b275d755c9edb36a90c618231</td>\n",
              "      <td>47813</td>\n",
              "      <td>barreiras</td>\n",
              "      <td>BA</td>\n",
              "    </tr>\n",
              "    <tr>\n",
              "      <th>4</th>\n",
              "      <td>47770eb9100c2d0c44946d9cf07ec65d</td>\n",
              "      <td>41ce2a54c0b03bf3443c3d931a367089</td>\n",
              "      <td>delivered</td>\n",
              "      <td>2018-08-08 08:38:49</td>\n",
              "      <td>2018-08-08 08:55:23</td>\n",
              "      <td>2018-08-08 13:50:00</td>\n",
              "      <td>2018-08-17 18:06:29</td>\n",
              "      <td>2018-09-04</td>\n",
              "      <td>9</td>\n",
              "      <td>e73b67b67587f7644d5bd1a52deb1b01</td>\n",
              "      <td>...</td>\n",
              "      <td>2018-08-18 00:00:00</td>\n",
              "      <td>2018-08-22 19:07:58</td>\n",
              "      <td>1</td>\n",
              "      <td>credit_card</td>\n",
              "      <td>3</td>\n",
              "      <td>179.12</td>\n",
              "      <td>3a653a41f6f9fc3d2a113cf8398680e8</td>\n",
              "      <td>75265</td>\n",
              "      <td>vianopolis</td>\n",
              "      <td>GO</td>\n",
              "    </tr>\n",
              "  </tbody>\n",
              "</table>\n",
              "<p>5 rows × 21 columns</p>\n",
              "</div>"
            ],
            "text/plain": [
              "                           order_id                       customer_id  \\\n",
              "0  e481f51cbdc54678b7cc49136f2d6af7  9ef432eb6251297304e76186b10a928d   \n",
              "1  e481f51cbdc54678b7cc49136f2d6af7  9ef432eb6251297304e76186b10a928d   \n",
              "2  e481f51cbdc54678b7cc49136f2d6af7  9ef432eb6251297304e76186b10a928d   \n",
              "3  53cdb2fc8bc7dce0b6741e2150273451  b0830fb4747a6c6d20dea0b8c802d7ef   \n",
              "4  47770eb9100c2d0c44946d9cf07ec65d  41ce2a54c0b03bf3443c3d931a367089   \n",
              "\n",
              "  order_status order_purchase_timestamp   order_approved_at  \\\n",
              "0    delivered      2017-10-02 10:56:33 2017-10-02 11:07:15   \n",
              "1    delivered      2017-10-02 10:56:33 2017-10-02 11:07:15   \n",
              "2    delivered      2017-10-02 10:56:33 2017-10-02 11:07:15   \n",
              "3    delivered      2018-07-24 20:41:37 2018-07-26 03:24:27   \n",
              "4    delivered      2018-08-08 08:38:49 2018-08-08 08:55:23   \n",
              "\n",
              "  order_delivered_carrier_date order_delivered_customer_date  \\\n",
              "0          2017-10-04 19:55:00           2017-10-10 21:25:13   \n",
              "1          2017-10-04 19:55:00           2017-10-10 21:25:13   \n",
              "2          2017-10-04 19:55:00           2017-10-10 21:25:13   \n",
              "3          2018-07-26 14:31:00           2018-08-07 15:27:45   \n",
              "4          2018-08-08 13:50:00           2018-08-17 18:06:29   \n",
              "\n",
              "  order_estimated_delivery_date  delivery_duration  \\\n",
              "0                    2017-10-18                  8   \n",
              "1                    2017-10-18                  8   \n",
              "2                    2017-10-18                  8   \n",
              "3                    2018-08-13                 13   \n",
              "4                    2018-09-04                  9   \n",
              "\n",
              "                          review_id  ...  review_creation_date  \\\n",
              "0  a54f0611adc9ed256b57ede6b6eb5114  ...   2017-10-11 00:00:00   \n",
              "1  a54f0611adc9ed256b57ede6b6eb5114  ...   2017-10-11 00:00:00   \n",
              "2  a54f0611adc9ed256b57ede6b6eb5114  ...   2017-10-11 00:00:00   \n",
              "3  8d5266042046a06655c8db133d120ba5  ...   2018-08-08 00:00:00   \n",
              "4  e73b67b67587f7644d5bd1a52deb1b01  ...   2018-08-18 00:00:00   \n",
              "\n",
              "  review_answer_timestamp payment_sequential  payment_type  \\\n",
              "0     2017-10-12 03:43:48                  1   credit_card   \n",
              "1     2017-10-12 03:43:48                  3       voucher   \n",
              "2     2017-10-12 03:43:48                  2       voucher   \n",
              "3     2018-08-08 18:37:50                  1        boleto   \n",
              "4     2018-08-22 19:07:58                  1   credit_card   \n",
              "\n",
              "  payment_installments  payment_value                customer_unique_id  \\\n",
              "0                    1          18.12  7c396fd4830fd04220f754e42b4e5bff   \n",
              "1                    1           2.00  7c396fd4830fd04220f754e42b4e5bff   \n",
              "2                    1          18.59  7c396fd4830fd04220f754e42b4e5bff   \n",
              "3                    1         141.46  af07308b275d755c9edb36a90c618231   \n",
              "4                    3         179.12  3a653a41f6f9fc3d2a113cf8398680e8   \n",
              "\n",
              "  customer_zip_code_prefix  customer_city customer_state  \n",
              "0                     3149      sao paulo             SP  \n",
              "1                     3149      sao paulo             SP  \n",
              "2                     3149      sao paulo             SP  \n",
              "3                    47813      barreiras             BA  \n",
              "4                    75265     vianopolis             GO  \n",
              "\n",
              "[5 rows x 21 columns]"
            ]
          },
          "execution_count": 51,
          "metadata": {},
          "output_type": "execute_result"
        }
      ],
      "source": [
        "all_df.head()"
      ]
    },
    {
      "cell_type": "code",
      "execution_count": 52,
      "metadata": {
        "colab": {
          "base_uri": "https://localhost:8080/",
          "height": 206
        },
        "id": "EGWtS48tzO9C",
        "outputId": "f1cbfc91-b7fc-46f1-8869-32d157762e8a"
      },
      "outputs": [
        {
          "data": {
            "text/html": [
              "<div>\n",
              "<style scoped>\n",
              "    .dataframe tbody tr th:only-of-type {\n",
              "        vertical-align: middle;\n",
              "    }\n",
              "\n",
              "    .dataframe tbody tr th {\n",
              "        vertical-align: top;\n",
              "    }\n",
              "\n",
              "    .dataframe thead th {\n",
              "        text-align: right;\n",
              "    }\n",
              "</style>\n",
              "<table border=\"1\" class=\"dataframe\">\n",
              "  <thead>\n",
              "    <tr style=\"text-align: right;\">\n",
              "      <th></th>\n",
              "      <th>customer_unique_id</th>\n",
              "      <th>frequency</th>\n",
              "      <th>monetary</th>\n",
              "      <th>recency</th>\n",
              "    </tr>\n",
              "  </thead>\n",
              "  <tbody>\n",
              "    <tr>\n",
              "      <th>0</th>\n",
              "      <td>0000366f3b9a7992bf8c76cfdf3221e2</td>\n",
              "      <td>1</td>\n",
              "      <td>141.90</td>\n",
              "      <td>111</td>\n",
              "    </tr>\n",
              "    <tr>\n",
              "      <th>1</th>\n",
              "      <td>0000b849f77a49e4a4ce2b2a4ca5be3f</td>\n",
              "      <td>1</td>\n",
              "      <td>27.19</td>\n",
              "      <td>114</td>\n",
              "    </tr>\n",
              "    <tr>\n",
              "      <th>2</th>\n",
              "      <td>0000f46a3911fa3c0805444483337064</td>\n",
              "      <td>1</td>\n",
              "      <td>86.22</td>\n",
              "      <td>537</td>\n",
              "    </tr>\n",
              "    <tr>\n",
              "      <th>3</th>\n",
              "      <td>0000f6ccb0745a6a4b88665a16c9f078</td>\n",
              "      <td>1</td>\n",
              "      <td>43.62</td>\n",
              "      <td>321</td>\n",
              "    </tr>\n",
              "    <tr>\n",
              "      <th>4</th>\n",
              "      <td>0004aac84e0df4da2b147fca70cf8255</td>\n",
              "      <td>1</td>\n",
              "      <td>196.89</td>\n",
              "      <td>288</td>\n",
              "    </tr>\n",
              "  </tbody>\n",
              "</table>\n",
              "</div>"
            ],
            "text/plain": [
              "                 customer_unique_id  frequency  monetary  recency\n",
              "0  0000366f3b9a7992bf8c76cfdf3221e2          1    141.90      111\n",
              "1  0000b849f77a49e4a4ce2b2a4ca5be3f          1     27.19      114\n",
              "2  0000f46a3911fa3c0805444483337064          1     86.22      537\n",
              "3  0000f6ccb0745a6a4b88665a16c9f078          1     43.62      321\n",
              "4  0004aac84e0df4da2b147fca70cf8255          1    196.89      288"
            ]
          },
          "execution_count": 52,
          "metadata": {},
          "output_type": "execute_result"
        }
      ],
      "source": [
        "rfm_df = all_df.groupby(by=\"customer_unique_id\", as_index=False).agg({\n",
        "    \"order_id\": \"nunique\", # menghitung jumlah order\n",
        "    \"payment_value\": \"sum\", # menghitung jumlah revenue\n",
        "    \"order_purchase_timestamp\": \"max\" # menghitung transaksi terakhir\n",
        "})\n",
        "\n",
        "rfm_df.columns = [\"customer_unique_id\", \"frequency\", \"monetary\", \"last_order_date\"]\n",
        "\n",
        "# menghitung kapan terakhir pelanggan melakukan transaksi (hari)\n",
        "rfm_df[\"last_order_date\"] = rfm_df[\"last_order_date\"].dt.date\n",
        "recent_date = orders_df_clean[\"order_purchase_timestamp\"].dt.date.max()\n",
        "rfm_df[\"recency\"] = rfm_df[\"last_order_date\"].apply(lambda x: (recent_date - x).days)\n",
        "\n",
        "rfm_df.drop(columns=\"last_order_date\", inplace=True)\n",
        "\n",
        "rfm_df.head()"
      ]
    },
    {
      "cell_type": "code",
      "execution_count": 53,
      "metadata": {
        "colab": {
          "base_uri": "https://localhost:8080/",
          "height": 206
        },
        "id": "a62e34ea",
        "outputId": "7b85e177-61d4-486b-8960-46c703468dd4"
      },
      "outputs": [
        {
          "data": {
            "text/html": [
              "<div>\n",
              "<style scoped>\n",
              "    .dataframe tbody tr th:only-of-type {\n",
              "        vertical-align: middle;\n",
              "    }\n",
              "\n",
              "    .dataframe tbody tr th {\n",
              "        vertical-align: top;\n",
              "    }\n",
              "\n",
              "    .dataframe thead th {\n",
              "        text-align: right;\n",
              "    }\n",
              "</style>\n",
              "<table border=\"1\" class=\"dataframe\">\n",
              "  <thead>\n",
              "    <tr style=\"text-align: right;\">\n",
              "      <th></th>\n",
              "      <th>customer_unique_id</th>\n",
              "      <th>frequency</th>\n",
              "      <th>monetary</th>\n",
              "      <th>recency</th>\n",
              "      <th>r_score</th>\n",
              "      <th>f_score</th>\n",
              "      <th>m_score</th>\n",
              "      <th>rfm_segment</th>\n",
              "    </tr>\n",
              "  </thead>\n",
              "  <tbody>\n",
              "    <tr>\n",
              "      <th>0</th>\n",
              "      <td>0000366f3b9a7992bf8c76cfdf3221e2</td>\n",
              "      <td>1</td>\n",
              "      <td>141.90</td>\n",
              "      <td>111</td>\n",
              "      <td>4</td>\n",
              "      <td>1</td>\n",
              "      <td>4</td>\n",
              "      <td>414</td>\n",
              "    </tr>\n",
              "    <tr>\n",
              "      <th>1</th>\n",
              "      <td>0000b849f77a49e4a4ce2b2a4ca5be3f</td>\n",
              "      <td>1</td>\n",
              "      <td>27.19</td>\n",
              "      <td>114</td>\n",
              "      <td>4</td>\n",
              "      <td>1</td>\n",
              "      <td>1</td>\n",
              "      <td>411</td>\n",
              "    </tr>\n",
              "    <tr>\n",
              "      <th>2</th>\n",
              "      <td>0000f46a3911fa3c0805444483337064</td>\n",
              "      <td>1</td>\n",
              "      <td>86.22</td>\n",
              "      <td>537</td>\n",
              "      <td>1</td>\n",
              "      <td>1</td>\n",
              "      <td>2</td>\n",
              "      <td>112</td>\n",
              "    </tr>\n",
              "    <tr>\n",
              "      <th>3</th>\n",
              "      <td>0000f6ccb0745a6a4b88665a16c9f078</td>\n",
              "      <td>1</td>\n",
              "      <td>43.62</td>\n",
              "      <td>321</td>\n",
              "      <td>2</td>\n",
              "      <td>1</td>\n",
              "      <td>1</td>\n",
              "      <td>211</td>\n",
              "    </tr>\n",
              "    <tr>\n",
              "      <th>4</th>\n",
              "      <td>0004aac84e0df4da2b147fca70cf8255</td>\n",
              "      <td>1</td>\n",
              "      <td>196.89</td>\n",
              "      <td>288</td>\n",
              "      <td>2</td>\n",
              "      <td>1</td>\n",
              "      <td>4</td>\n",
              "      <td>214</td>\n",
              "    </tr>\n",
              "  </tbody>\n",
              "</table>\n",
              "</div>"
            ],
            "text/plain": [
              "                 customer_unique_id  frequency  monetary  recency r_score  \\\n",
              "0  0000366f3b9a7992bf8c76cfdf3221e2          1    141.90      111       4   \n",
              "1  0000b849f77a49e4a4ce2b2a4ca5be3f          1     27.19      114       4   \n",
              "2  0000f46a3911fa3c0805444483337064          1     86.22      537       1   \n",
              "3  0000f6ccb0745a6a4b88665a16c9f078          1     43.62      321       2   \n",
              "4  0004aac84e0df4da2b147fca70cf8255          1    196.89      288       2   \n",
              "\n",
              "  f_score m_score rfm_segment  \n",
              "0       1       4         414  \n",
              "1       1       1         411  \n",
              "2       1       2         112  \n",
              "3       1       1         211  \n",
              "4       1       4         214  "
            ]
          },
          "execution_count": 53,
          "metadata": {},
          "output_type": "execute_result"
        }
      ],
      "source": [
        "# Menghitung RFM score\n",
        "rfm_all = rfm_df.copy()\n",
        "\n",
        "# Lakukan assign score Recency, Frequency, and Monetary menggunakan quantile\n",
        "rfm_all['r_score'] = pd.qcut(rfm_all['recency'], 5, labels=[5, 4, 3, 2, 1]) # Lower recency is better\n",
        "rfm_all['f_score'] = pd.qcut(rfm_all['frequency'].rank(method='first'), 5, labels=[1, 2, 3, 4, 5]) # Higher frequency is better\n",
        "rfm_all['m_score'] = pd.qcut(rfm_all['monetary'], 5, labels=[1, 2, 3, 4, 5]) # Higher monetary is better\n",
        "\n",
        "# Menggabungkan RFM scores untuk membuat segmentasi pelanggan\n",
        "rfm_all['rfm_segment'] = rfm_all['r_score'].astype(str) + rfm_all['f_score'].astype(str) + rfm_all['m_score'].astype(str)\n",
        "\n",
        "rfm_all.head()"
      ]
    },
    {
      "cell_type": "code",
      "execution_count": 54,
      "metadata": {
        "colab": {
          "base_uri": "https://localhost:8080/",
          "height": 366
        },
        "id": "cf8cc003",
        "outputId": "60702bfb-5603-45bd-d3a8-bf4921c9b5e6"
      },
      "outputs": [
        {
          "data": {
            "text/plain": [
              "rfm_level\n",
              "Others                  20630\n",
              "Loyal Customers         13837\n",
              "Recent Customers        13453\n",
              "Frequent Customers      13144\n",
              "High Value Customers    12715\n",
              "Frequent Buyers          9126\n",
              "Big Spenders             8844\n",
              "Best Customers            987\n",
              "Name: count, dtype: int64"
            ]
          },
          "execution_count": 54,
          "metadata": {},
          "output_type": "execute_result"
        }
      ],
      "source": [
        "# Segmentasi pelanggan berdasarkan RFM scores\n",
        "# Mendefinisikan level RFM dan buat segmentasi pelanggan\n",
        "def assign_rfm_level(row):\n",
        "    if row['rfm_segment'] == '555':\n",
        "        return 'Best Customers'\n",
        "    elif row['r_score'] >= 4 and row['f_score'] >= 4:\n",
        "        return 'Loyal Customers'\n",
        "    elif row['r_score'] >= 4 and row['m_score'] >= 4:\n",
        "        return 'Big Spenders'\n",
        "    elif row['f_score'] >= 4 and row['m_score'] >= 4:\n",
        "        return 'Frequent Buyers'\n",
        "    elif row['r_score'] >= 4:\n",
        "        return 'Recent Customers'\n",
        "    elif row['f_score'] >= 4:\n",
        "        return 'Frequent Customers'\n",
        "    elif row['m_score'] >= 4:\n",
        "        return 'High Value Customers'\n",
        "    else:\n",
        "        return 'Others'\n",
        "\n",
        "rfm_all['rfm_level'] = rfm_all.apply(assign_rfm_level, axis=1)\n",
        "\n",
        "# Menampilkan total setiap segmen\n",
        "rfm_all['rfm_level'].value_counts()"
      ]
    },
    {
      "cell_type": "code",
      "execution_count": 55,
      "metadata": {
        "colab": {
          "base_uri": "https://localhost:8080/",
          "height": 694
        },
        "id": "57a48c16",
        "outputId": "3a51c7ea-8d22-463d-d737-88e7532f2549"
      },
      "outputs": [
        {
          "name": "stderr",
          "output_type": "stream",
          "text": [
            "C:\\Users\\finan\\AppData\\Local\\Temp\\ipykernel_10908\\2455228804.py:3: FutureWarning: \n",
            "\n",
            "Passing `palette` without assigning `hue` is deprecated and will be removed in v0.14.0. Assign the `x` variable to `hue` and set `legend=False` for the same effect.\n",
            "\n",
            "  sns.countplot(data=rfm_all, x='rfm_level', order=rfm_all['rfm_level'].value_counts().index, palette='viridis')\n"
          ]
        },
        {
          "data": {
            "image/png": "[encoded data removed]",
            "text/plain": [
              "<Figure size 720x432 with 1 Axes>"
            ]
          },
          "metadata": {
            "needs_background": "light"
          },
          "output_type": "display_data"
        }
      ],
      "source": [
        "# Visualize distribusi pelanggan untuk setiap segmen RFM\n",
        "plt.figure(figsize=(10, 6))\n",
        "sns.countplot(data=rfm_all, x='rfm_level', order=rfm_all['rfm_level'].value_counts().index, palette='viridis')\n",
        "plt.title('Distribusi Pelanggan per Segmen RFM')\n",
        "plt.xlabel('Segmen RFM')\n",
        "plt.ylabel('Jumlah Pelanggan')\n",
        "plt.xticks(rotation=45, ha='right')\n",
        "plt.tight_layout()\n",
        "plt.show()"
      ]
    },
    {
      "cell_type": "code",
      "execution_count": 56,
      "metadata": {
        "id": "kmGViL9v-sTY"
      },
      "outputs": [],
      "source": [
        "all_df.to_csv(\"main_data.csv\", index=False)"
      ]
    },
    {
      "cell_type": "markdown",
      "metadata": {
        "id": "_WeHlCeX8DC2"
      },
      "source": [
        "## Conclusion"
      ]
    },
    {
      "cell_type": "markdown",
      "metadata": {
        "id": "ZTcyR48Y8DC2"
      },
      "source": [
        "- Conclution pertanyaan 1: (Hubungan Waktu Pengiriman dengan Review Score): Terdapat hubungan negatif antara lama pengiriman dan rata-rata review score. Pengiriman yang lebih cepat cenderung mendapatkan review score yang lebih tinggi, menunjukkan pentingnya efisiensi pengiriman bagi kepuasan pelanggan.\n",
        "\n",
        "- Conclution pertanyaan 2: (Asal State Pelanggan dan Revenue Terbanyak): State SP, RJ, MG, RS, dan PR adalah pasar utama dengan jumlah pelanggan dan kontribusi revenue tertinggi. Namun, ada juga banyak state dengan jumlah pelanggan yang sangat sedikit, menunjukkan potensi untuk ekspansi atau kebutuhan strategi penjangkauan yang berbeda.\n",
        "\n",
        "- Conclution pertanyaan 3: (Metode Pembayaran Paling Sering Digunakan dan Revenue Tertinggi): Credit card adalah metode pembayaran yang paling dominan baik dari segi frekuensi penggunaan maupun total revenue. Ini menunjukkan bahwa credit card adalah metode pembayaran yang paling disukai pelanggan dan paling menguntungkan bagi bisnis.\n",
        "\n",
        "- Conclution pertanyaan 4: (Segmentasi Pelanggan Berdasarkan Frekuensi dan Total Nilai Pembelian - RFM): Analisis RFM berhasil mengidentifikasi berbagai segmen pelanggan, termasuk pelanggan bernilai tinggi ('Best Customers', 'Loyal Customers', 'Big Spenders', 'Frequent Buyers'). Meskipun segmen 'Others' memiliki jumlah terbesar, fokus pada retensi dan pengembangan segmen bernilai tinggi serta strategi untuk meningkatkan frekuensi dan nilai pembelian di segmen lain akan menjadi kunci pertumbuhan."
      ]
    }
  ],
  "metadata": {
    "colab": {
      "provenance": []
    },
    "kernelspec": {
      "display_name": "Python 3",
      "language": "python",
      "name": "python3"
    },
    "language_info": {
      "codemirror_mode": {
        "name": "ipython",
        "version": 3
      },
      "file_extension": ".py",
      "mimetype": "text/x-python",
      "name": "python",
      "nbconvert_exporter": "python",
      "pygments_lexer": "ipython3",
      "version": "3.9.8"
    },
    "orig_nbformat": 4,
    "vscode": {
      "interpreter": {
        "hash": "972b3bf27e332e87b5379f2791f6ef9dfc79c71018c370b0d7423235e20fe4d7"
      }
    }
  },
  "nbformat": 4,
  "nbformat_minor": 0
}
